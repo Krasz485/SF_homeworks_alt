{
  "cells": [
    {
      "cell_type": "markdown",
      "id": "42289889-bd57-434e-9637-d3e354756316",
      "metadata": {
        "id": "42289889-bd57-434e-9637-d3e354756316"
      },
      "source": [
        "<center> <img src = https://raw.githubusercontent.com/AndreyRysistov/DatasetsForPandas/main/hh%20label.jpg alt=\"drawing\" style=\"width:400px;\">"
      ]
    },
    {
      "cell_type": "markdown",
      "id": "829cb75b-f14e-4ba8-9195-7ba929a7d656",
      "metadata": {
        "id": "829cb75b-f14e-4ba8-9195-7ba929a7d656",
        "tags": []
      },
      "source": [
        "# <center> Проект: Анализ вакансий из HeadHunter\n",
        "   "
      ]
    },
    {
      "cell_type": "code",
      "execution_count": 104,
      "id": "dccfde33-2452-43fb-a8a5-5c6ebc02a71d",
      "metadata": {
        "id": "dccfde33-2452-43fb-a8a5-5c6ebc02a71d"
      },
      "outputs": [],
      "source": [
        "import pandas as pd\n",
        "import psycopg2"
      ]
    },
    {
      "cell_type": "code",
      "execution_count": 105,
      "id": "oVKH4ehvf8Ay",
      "metadata": {
        "id": "oVKH4ehvf8Ay"
      },
      "outputs": [],
      "source": [
        "# вставьте сюда параметры подключения из юнита 1. Работа с базой данных из Python "
      ]
    },
    {
      "cell_type": "code",
      "execution_count": 106,
      "id": "G4X_q8KBf7SF",
      "metadata": {
        "id": "G4X_q8KBf7SF"
      },
      "outputs": [],
      "source": [
        "connection = psycopg2.connect(\n",
        "    dbname='project_sql',\n",
        "    user='skillfactory',\n",
        "    host='84.201.134.129',\n",
        "    password='cCkxxLVrDE8EbvjueeMedPKt',\n",
        "    port=5432\n",
        ")\n",
        "\n",
        "\n",
        "#DBNAME = 'project_sql'\n",
        "#USER = 'skillfactory'\n",
        "#PASSWORD = 'cCkxxLVrDE8EbvjueeMedPKt'\n",
        "#HOST = '84.201.134.129'\n",
        "#PORT = 5432"
      ]
    },
    {
      "cell_type": "markdown",
      "id": "0dc6476b-7a00-44f1-ac93-6e3baed33a29",
      "metadata": {
        "id": "0dc6476b-7a00-44f1-ac93-6e3baed33a29"
      },
      "source": [
        "# Юнит 3. Предварительный анализ данных"
      ]
    },
    {
      "cell_type": "markdown",
      "id": "889782b6-8d1c-410e-8920-e57f27917c64",
      "metadata": {
        "id": "889782b6-8d1c-410e-8920-e57f27917c64"
      },
      "source": [
        "1. Напишите запрос, который посчитает количество вакансий в нашей базе (вакансии находятся в таблице vacancies). "
      ]
    },
    {
      "cell_type": "code",
      "execution_count": 107,
      "id": "bc39e68e-ed02-4ee2-9235-7258a2f867a8",
      "metadata": {
        "id": "bc39e68e-ed02-4ee2-9235-7258a2f867a8"
      },
      "outputs": [
        {
          "name": "stderr",
          "output_type": "stream",
          "text": [
            "C:\\Users\\Kaelis\\AppData\\Local\\Temp\\ipykernel_24384\\3505305123.py:7: UserWarning: pandas only supports SQLAlchemy connectable (engine/connection) or database string URI or sqlite3 DBAPI2 connection. Other DBAPI2 objects are not tested. Please consider using SQLAlchemy.\n",
            "  df = pd.read_sql_query(query, connection)\n"
          ]
        },
        {
          "data": {
            "text/html": [
              "<div>\n",
              "<style scoped>\n",
              "    .dataframe tbody tr th:only-of-type {\n",
              "        vertical-align: middle;\n",
              "    }\n",
              "\n",
              "    .dataframe tbody tr th {\n",
              "        vertical-align: top;\n",
              "    }\n",
              "\n",
              "    .dataframe thead th {\n",
              "        text-align: right;\n",
              "    }\n",
              "</style>\n",
              "<table border=\"1\" class=\"dataframe\">\n",
              "  <thead>\n",
              "    <tr style=\"text-align: right;\">\n",
              "      <th></th>\n",
              "      <th>count</th>\n",
              "    </tr>\n",
              "  </thead>\n",
              "  <tbody>\n",
              "    <tr>\n",
              "      <th>0</th>\n",
              "      <td>49197</td>\n",
              "    </tr>\n",
              "  </tbody>\n",
              "</table>\n",
              "</div>"
            ],
            "text/plain": [
              "   count\n",
              "0  49197"
            ]
          },
          "execution_count": 107,
          "metadata": {},
          "output_type": "execute_result"
        }
      ],
      "source": [
        "# текст запроса\n",
        "query = f'''select\n",
        "                     count(id) /*подсчитываем количество вакансий по уникальным id из таблицы vacancies*/\n",
        "                from \n",
        "                     vacancies;\n",
        "             '''\n",
        "df = pd.read_sql_query(query, connection)\n",
        "df"
      ]
    },
    {
      "cell_type": "code",
      "execution_count": 108,
      "id": "7mAwtsk4hEHY",
      "metadata": {
        "id": "7mAwtsk4hEHY"
      },
      "outputs": [
        {
          "data": {
            "text/plain": [
              "49197"
            ]
          },
          "execution_count": 108,
          "metadata": {},
          "output_type": "execute_result"
        }
      ],
      "source": [
        "# результат запроса\n",
        "49197"
      ]
    },
    {
      "cell_type": "markdown",
      "id": "b583485d-1f9e-494e-ada4-80ffff7c53d6",
      "metadata": {
        "id": "b583485d-1f9e-494e-ada4-80ffff7c53d6"
      },
      "source": [
        "2. Напишите запрос, который посчитает количество работодателей (таблица employers). "
      ]
    },
    {
      "cell_type": "code",
      "execution_count": 109,
      "id": "5408c52c-3407-4a63-b25b-1aafa2322d28",
      "metadata": {
        "id": "5408c52c-3407-4a63-b25b-1aafa2322d28"
      },
      "outputs": [
        {
          "name": "stderr",
          "output_type": "stream",
          "text": [
            "C:\\Users\\Kaelis\\AppData\\Local\\Temp\\ipykernel_24384\\1449259975.py:7: UserWarning: pandas only supports SQLAlchemy connectable (engine/connection) or database string URI or sqlite3 DBAPI2 connection. Other DBAPI2 objects are not tested. Please consider using SQLAlchemy.\n",
            "  df = pd.read_sql_query(query, connection)\n"
          ]
        },
        {
          "data": {
            "text/html": [
              "<div>\n",
              "<style scoped>\n",
              "    .dataframe tbody tr th:only-of-type {\n",
              "        vertical-align: middle;\n",
              "    }\n",
              "\n",
              "    .dataframe tbody tr th {\n",
              "        vertical-align: top;\n",
              "    }\n",
              "\n",
              "    .dataframe thead th {\n",
              "        text-align: right;\n",
              "    }\n",
              "</style>\n",
              "<table border=\"1\" class=\"dataframe\">\n",
              "  <thead>\n",
              "    <tr style=\"text-align: right;\">\n",
              "      <th></th>\n",
              "      <th>count</th>\n",
              "    </tr>\n",
              "  </thead>\n",
              "  <tbody>\n",
              "    <tr>\n",
              "      <th>0</th>\n",
              "      <td>23501</td>\n",
              "    </tr>\n",
              "  </tbody>\n",
              "</table>\n",
              "</div>"
            ],
            "text/plain": [
              "   count\n",
              "0  23501"
            ]
          },
          "execution_count": 109,
          "metadata": {},
          "output_type": "execute_result"
        }
      ],
      "source": [
        "# текст запроса\n",
        "query = f'''select\n",
        "                     count(id) /*подсчитываем количество работодателей по уникальным id из таблицы employers*/\n",
        "                from \n",
        "                     employers;\n",
        "             '''\n",
        "df = pd.read_sql_query(query, connection)\n",
        "df"
      ]
    },
    {
      "cell_type": "code",
      "execution_count": 110,
      "id": "jVL4eshKhdqc",
      "metadata": {
        "id": "jVL4eshKhdqc"
      },
      "outputs": [
        {
          "data": {
            "text/plain": [
              "23501"
            ]
          },
          "execution_count": 110,
          "metadata": {},
          "output_type": "execute_result"
        }
      ],
      "source": [
        "# результат запроса\n",
        "23501"
      ]
    },
    {
      "cell_type": "markdown",
      "id": "a2bfff1f-c975-4bf6-84be-2185d79dcb76",
      "metadata": {
        "id": "a2bfff1f-c975-4bf6-84be-2185d79dcb76"
      },
      "source": [
        "3. Посчитате с помощью запроса количество регионов (таблица areas)."
      ]
    },
    {
      "cell_type": "code",
      "execution_count": 111,
      "id": "1m8QJwBYhey6",
      "metadata": {
        "id": "1m8QJwBYhey6"
      },
      "outputs": [
        {
          "name": "stderr",
          "output_type": "stream",
          "text": [
            "C:\\Users\\Kaelis\\AppData\\Local\\Temp\\ipykernel_24384\\320346689.py:7: UserWarning: pandas only supports SQLAlchemy connectable (engine/connection) or database string URI or sqlite3 DBAPI2 connection. Other DBAPI2 objects are not tested. Please consider using SQLAlchemy.\n",
            "  df = pd.read_sql_query(query, connection)\n"
          ]
        },
        {
          "data": {
            "text/html": [
              "<div>\n",
              "<style scoped>\n",
              "    .dataframe tbody tr th:only-of-type {\n",
              "        vertical-align: middle;\n",
              "    }\n",
              "\n",
              "    .dataframe tbody tr th {\n",
              "        vertical-align: top;\n",
              "    }\n",
              "\n",
              "    .dataframe thead th {\n",
              "        text-align: right;\n",
              "    }\n",
              "</style>\n",
              "<table border=\"1\" class=\"dataframe\">\n",
              "  <thead>\n",
              "    <tr style=\"text-align: right;\">\n",
              "      <th></th>\n",
              "      <th>count</th>\n",
              "    </tr>\n",
              "  </thead>\n",
              "  <tbody>\n",
              "    <tr>\n",
              "      <th>0</th>\n",
              "      <td>1362</td>\n",
              "    </tr>\n",
              "  </tbody>\n",
              "</table>\n",
              "</div>"
            ],
            "text/plain": [
              "   count\n",
              "0   1362"
            ]
          },
          "execution_count": 111,
          "metadata": {},
          "output_type": "execute_result"
        }
      ],
      "source": [
        "# текст запроса\n",
        "query = f'''select\n",
        "                     count(id) /*подсчитываем количество регионов по уникальным id из таблицы areas*/\n",
        "                from \n",
        "                     areas;\n",
        "             '''\n",
        "df = pd.read_sql_query(query, connection)\n",
        "df"
      ]
    },
    {
      "cell_type": "code",
      "execution_count": 112,
      "id": "EZsn9tlfhe7f",
      "metadata": {
        "id": "EZsn9tlfhe7f"
      },
      "outputs": [
        {
          "data": {
            "text/plain": [
              "1362"
            ]
          },
          "execution_count": 112,
          "metadata": {},
          "output_type": "execute_result"
        }
      ],
      "source": [
        "# результат запроса\n",
        "1362"
      ]
    },
    {
      "cell_type": "markdown",
      "id": "41bb59f3-53cc-4a67-a5bc-bedf573955e4",
      "metadata": {
        "id": "41bb59f3-53cc-4a67-a5bc-bedf573955e4"
      },
      "source": [
        "4. Посчитате с помощью запроса количество сфер деятельности в базе (таблица industries)."
      ]
    },
    {
      "cell_type": "code",
      "execution_count": 113,
      "id": "d286cf4c-707b-4cd2-9190-7ab3587d04a1",
      "metadata": {
        "id": "d286cf4c-707b-4cd2-9190-7ab3587d04a1"
      },
      "outputs": [
        {
          "name": "stderr",
          "output_type": "stream",
          "text": [
            "C:\\Users\\Kaelis\\AppData\\Local\\Temp\\ipykernel_24384\\3149461227.py:7: UserWarning: pandas only supports SQLAlchemy connectable (engine/connection) or database string URI or sqlite3 DBAPI2 connection. Other DBAPI2 objects are not tested. Please consider using SQLAlchemy.\n",
            "  df = pd.read_sql_query(query, connection)\n"
          ]
        },
        {
          "data": {
            "text/html": [
              "<div>\n",
              "<style scoped>\n",
              "    .dataframe tbody tr th:only-of-type {\n",
              "        vertical-align: middle;\n",
              "    }\n",
              "\n",
              "    .dataframe tbody tr th {\n",
              "        vertical-align: top;\n",
              "    }\n",
              "\n",
              "    .dataframe thead th {\n",
              "        text-align: right;\n",
              "    }\n",
              "</style>\n",
              "<table border=\"1\" class=\"dataframe\">\n",
              "  <thead>\n",
              "    <tr style=\"text-align: right;\">\n",
              "      <th></th>\n",
              "      <th>count</th>\n",
              "    </tr>\n",
              "  </thead>\n",
              "  <tbody>\n",
              "    <tr>\n",
              "      <th>0</th>\n",
              "      <td>294</td>\n",
              "    </tr>\n",
              "  </tbody>\n",
              "</table>\n",
              "</div>"
            ],
            "text/plain": [
              "   count\n",
              "0    294"
            ]
          },
          "execution_count": 113,
          "metadata": {},
          "output_type": "execute_result"
        }
      ],
      "source": [
        "# текст запроса\n",
        "query = f'''select\n",
        "                     count(id) /*подсчитываем количество сфер деятельности по уникальным id из таблицы industries*/\n",
        "                from \n",
        "                     industries;\n",
        "             '''\n",
        "df = pd.read_sql_query(query, connection)\n",
        "df"
      ]
    },
    {
      "cell_type": "code",
      "execution_count": 114,
      "id": "JYAaoZ4qhfzW",
      "metadata": {
        "id": "JYAaoZ4qhfzW"
      },
      "outputs": [
        {
          "data": {
            "text/plain": [
              "294"
            ]
          },
          "execution_count": 114,
          "metadata": {},
          "output_type": "execute_result"
        }
      ],
      "source": [
        "# результат запроса\n",
        "294"
      ]
    },
    {
      "cell_type": "markdown",
      "id": "9a8a2181-6914-448b-85f1-38f5f18b8a93",
      "metadata": {
        "id": "9a8a2181-6914-448b-85f1-38f5f18b8a93"
      },
      "source": [
        "***"
      ]
    },
    {
      "cell_type": "code",
      "execution_count": 115,
      "id": "be4e9bd3-a4db-4a20-82fb-6b02fc2957e0",
      "metadata": {
        "id": "be4e9bd3-a4db-4a20-82fb-6b02fc2957e0"
      },
      "outputs": [
        {
          "ename": "SyntaxError",
          "evalue": "invalid syntax (3994396071.py, line 2)",
          "output_type": "error",
          "traceback": [
            "\u001b[1;36m  Cell \u001b[1;32mIn[115], line 2\u001b[1;36m\u001b[0m\n\u001b[1;33m    База данных содержит следующую информацию:\u001b[0m\n\u001b[1;37m         ^\u001b[0m\n\u001b[1;31mSyntaxError\u001b[0m\u001b[1;31m:\u001b[0m invalid syntax\n"
          ]
        }
      ],
      "source": [
        "# выводы по предварительному анализу данных\n",
        "База данных содержит следующую информацию:\n",
        "     - имеются данные о 49 197 вакансиях;\n",
        "     - количество работодателей составляет 23 501;\n",
        "     - работодатели расположены в 1 362 регионах;\n",
        "     - в таблице представлены данные о 294 сферах деятельности."
      ]
    },
    {
      "cell_type": "markdown",
      "id": "8d62a9f3-f64e-4fe7-bdac-c4dffa16155e",
      "metadata": {
        "id": "8d62a9f3-f64e-4fe7-bdac-c4dffa16155e"
      },
      "source": [
        "# Юнит 4. Детальный анализ вакансий"
      ]
    },
    {
      "cell_type": "markdown",
      "id": "93053d3d-b284-481a-9cf7-012d7014c0e0",
      "metadata": {
        "id": "93053d3d-b284-481a-9cf7-012d7014c0e0"
      },
      "source": [
        "1. Напишите запрос, который позволит узнать, сколько (cnt) вакансий в каждом регионе (area).\n",
        "Отсортируйте по количеству вакансий в порядке убывания."
      ]
    },
    {
      "cell_type": "code",
      "execution_count": null,
      "id": "19f0aef6",
      "metadata": {},
      "outputs": [],
      "source": []
    },
    {
      "cell_type": "code",
      "execution_count": null,
      "id": "001e8e35",
      "metadata": {},
      "outputs": [],
      "source": []
    },
    {
      "cell_type": "code",
      "execution_count": null,
      "id": "3f069da6-fdc9-4ae7-b514-fafe2675efd3",
      "metadata": {
        "id": "3f069da6-fdc9-4ae7-b514-fafe2675efd3"
      },
      "outputs": [],
      "source": [
        "# текст запроса\n",
        "query = f'''select                     \n",
        "                     COUNT (v.id) AS cnt,\n",
        "                     a.name AS area /*подсчитываем количество вакансий в соответствующих названиях регионов*/\n",
        "                from \n",
        "                     vacancies AS v JOIN areas AS a ON v.area_id = a.id /*добавляем к перечню вакансий соответствующее наименование региона по id*/\n",
        "                group by a.name\n",
        "                order by cnt DESC\n",
        "             '''\n",
        "df = pd.read_sql_query(query, connection)\n",
        "df\n"
      ]
    },
    {
      "cell_type": "code",
      "execution_count": null,
      "id": "P7QL86hrjhRJ",
      "metadata": {
        "id": "P7QL86hrjhRJ"
      },
      "outputs": [],
      "source": [
        "# результат запроса\n",
        "\tcnt\tarea\n",
        "0\t5333\tМосква\n",
        "1\t2851\tСанкт-Петербург\n",
        "2\t2112\tМинск\n",
        "3\t2006\tНовосибирск\n",
        "4\t1892\tАлматы"
      ]
    },
    {
      "cell_type": "markdown",
      "id": "4266f0b6-1646-492a-88b4-2f6a46502135",
      "metadata": {
        "id": "4266f0b6-1646-492a-88b4-2f6a46502135"
      },
      "source": [
        "2. Напишите запрос, чтобы определить у какого количества вакансий заполнено хотя бы одно из двух полей с зарплатой."
      ]
    },
    {
      "cell_type": "code",
      "execution_count": null,
      "id": "0c44b350-72eb-4d65-8b54-a1fc449ba9fd",
      "metadata": {
        "id": "0c44b350-72eb-4d65-8b54-a1fc449ba9fd"
      },
      "outputs": [
        {
          "name": "stderr",
          "output_type": "stream",
          "text": [
            "C:\\Users\\Kaelis\\AppData\\Local\\Temp\\ipykernel_33600\\130581162.py:10: UserWarning: pandas only supports SQLAlchemy connectable (engine/connection) or database string URI or sqlite3 DBAPI2 connection. Other DBAPI2 objects are not tested. Please consider using SQLAlchemy.\n",
            "  df = pd.read_sql_query(query, connection)\n"
          ]
        },
        {
          "data": {
            "text/html": [
              "<div>\n",
              "<style scoped>\n",
              "    .dataframe tbody tr th:only-of-type {\n",
              "        vertical-align: middle;\n",
              "    }\n",
              "\n",
              "    .dataframe tbody tr th {\n",
              "        vertical-align: top;\n",
              "    }\n",
              "\n",
              "    .dataframe thead th {\n",
              "        text-align: right;\n",
              "    }\n",
              "</style>\n",
              "<table border=\"1\" class=\"dataframe\">\n",
              "  <thead>\n",
              "    <tr style=\"text-align: right;\">\n",
              "      <th></th>\n",
              "      <th>count</th>\n",
              "    </tr>\n",
              "  </thead>\n",
              "  <tbody>\n",
              "    <tr>\n",
              "      <th>0</th>\n",
              "      <td>24073</td>\n",
              "    </tr>\n",
              "  </tbody>\n",
              "</table>\n",
              "</div>"
            ],
            "text/plain": [
              "   count\n",
              "0  24073"
            ]
          },
          "execution_count": 219,
          "metadata": {},
          "output_type": "execute_result"
        }
      ],
      "source": [
        "# текст запроса\n",
        "query = f'''select                     \n",
        "                     COUNT(id) /*подсчитываем кол-во id вакансий*/\n",
        "                     \n",
        "                from \n",
        "                     vacancies\n",
        "                where salary_from IS NOT NULL OR salary_to IS NOT NULL /*условие отбора - указано значение минимальной ИЛИ максимальной ЗП*/\n",
        "                \n",
        "             '''\n",
        "df = pd.read_sql_query(query, connection)\n",
        "df"
      ]
    },
    {
      "cell_type": "code",
      "execution_count": null,
      "id": "rhvwaMDkoWTi",
      "metadata": {
        "id": "rhvwaMDkoWTi"
      },
      "outputs": [],
      "source": [
        "# результат запроса\n",
        "24073"
      ]
    },
    {
      "cell_type": "markdown",
      "id": "635c4d5d-f323-4c66-b428-50a088120aa0",
      "metadata": {
        "id": "635c4d5d-f323-4c66-b428-50a088120aa0"
      },
      "source": [
        "3. Найдите средние значения для нижней и верхней границы зарплатной вилки. Округлите значения до целого."
      ]
    },
    {
      "cell_type": "code",
      "execution_count": null,
      "id": "603cdbe4-0ec3-4106-8eaf-c73fcdd29165",
      "metadata": {
        "id": "603cdbe4-0ec3-4106-8eaf-c73fcdd29165"
      },
      "outputs": [
        {
          "name": "stderr",
          "output_type": "stream",
          "text": [
            "C:\\Users\\Kaelis\\AppData\\Local\\Temp\\ipykernel_33600\\2215013579.py:11: UserWarning: pandas only supports SQLAlchemy connectable (engine/connection) or database string URI or sqlite3 DBAPI2 connection. Other DBAPI2 objects are not tested. Please consider using SQLAlchemy.\n",
            "  df = pd.read_sql_query(query, connection)\n"
          ]
        },
        {
          "data": {
            "text/html": [
              "<div>\n",
              "<style scoped>\n",
              "    .dataframe tbody tr th:only-of-type {\n",
              "        vertical-align: middle;\n",
              "    }\n",
              "\n",
              "    .dataframe tbody tr th {\n",
              "        vertical-align: top;\n",
              "    }\n",
              "\n",
              "    .dataframe thead th {\n",
              "        text-align: right;\n",
              "    }\n",
              "</style>\n",
              "<table border=\"1\" class=\"dataframe\">\n",
              "  <thead>\n",
              "    <tr style=\"text-align: right;\">\n",
              "      <th></th>\n",
              "      <th>min_salary</th>\n",
              "      <th>max_salary</th>\n",
              "    </tr>\n",
              "  </thead>\n",
              "  <tbody>\n",
              "    <tr>\n",
              "      <th>0</th>\n",
              "      <td>71065.0</td>\n",
              "      <td>110537.0</td>\n",
              "    </tr>\n",
              "  </tbody>\n",
              "</table>\n",
              "</div>"
            ],
            "text/plain": [
              "   min_salary  max_salary\n",
              "0     71065.0    110537.0"
            ]
          },
          "execution_count": 220,
          "metadata": {},
          "output_type": "execute_result"
        }
      ],
      "source": [
        "# текст запроса\n",
        "query = f'''select                     \n",
        "                     ROUND(AVG(salary_from)) AS min_salary, /*округляем среднее значение минимальной ЗП*/\n",
        "                     ROUND(AVG(salary_to)) AS max_salary    /*округляем среднее значение максимальной ЗП*/\n",
        "                     \n",
        "                from \n",
        "                     vacancies\n",
        "                \n",
        "                \n",
        "             '''\n",
        "df = pd.read_sql_query(query, connection)\n",
        "df"
      ]
    },
    {
      "cell_type": "code",
      "execution_count": null,
      "id": "pswpAb66ovZZ",
      "metadata": {
        "id": "pswpAb66ovZZ"
      },
      "outputs": [],
      "source": [
        "# результат запроса\n",
        "\tmin_salary\tmax_salary\n",
        "0\t71065.0 \t110537.0"
      ]
    },
    {
      "cell_type": "markdown",
      "id": "f3fdaec9-5fd3-4260-9cf5-1d7406b628a5",
      "metadata": {
        "id": "f3fdaec9-5fd3-4260-9cf5-1d7406b628a5"
      },
      "source": [
        "4. Напишите запрос, который выведет количество вакансий для каждого сочетания типа рабочего графика (schedule) и типа трудоустройства (employment), используемого в вакансиях. Результат отсортируйте по убыванию количества.\n"
      ]
    },
    {
      "cell_type": "code",
      "execution_count": null,
      "id": "1ea710ec-871b-431e-9462-c7d0fd87011b",
      "metadata": {
        "id": "1ea710ec-871b-431e-9462-c7d0fd87011b"
      },
      "outputs": [
        {
          "name": "stderr",
          "output_type": "stream",
          "text": [
            "C:\\Users\\Kaelis\\AppData\\Local\\Temp\\ipykernel_33600\\1594388148.py:12: UserWarning: pandas only supports SQLAlchemy connectable (engine/connection) or database string URI or sqlite3 DBAPI2 connection. Other DBAPI2 objects are not tested. Please consider using SQLAlchemy.\n",
            "  df = pd.read_sql_query(query, connection)\n"
          ]
        },
        {
          "data": {
            "text/html": [
              "<div>\n",
              "<style scoped>\n",
              "    .dataframe tbody tr th:only-of-type {\n",
              "        vertical-align: middle;\n",
              "    }\n",
              "\n",
              "    .dataframe tbody tr th {\n",
              "        vertical-align: top;\n",
              "    }\n",
              "\n",
              "    .dataframe thead th {\n",
              "        text-align: right;\n",
              "    }\n",
              "</style>\n",
              "<table border=\"1\" class=\"dataframe\">\n",
              "  <thead>\n",
              "    <tr style=\"text-align: right;\">\n",
              "      <th></th>\n",
              "      <th>schedule</th>\n",
              "      <th>employment</th>\n",
              "      <th>vacancy_count</th>\n",
              "    </tr>\n",
              "  </thead>\n",
              "  <tbody>\n",
              "    <tr>\n",
              "      <th>0</th>\n",
              "      <td>Полный день</td>\n",
              "      <td>Полная занятость</td>\n",
              "      <td>35367</td>\n",
              "    </tr>\n",
              "    <tr>\n",
              "      <th>1</th>\n",
              "      <td>Удаленная работа</td>\n",
              "      <td>Полная занятость</td>\n",
              "      <td>7802</td>\n",
              "    </tr>\n",
              "    <tr>\n",
              "      <th>2</th>\n",
              "      <td>Гибкий график</td>\n",
              "      <td>Полная занятость</td>\n",
              "      <td>1593</td>\n",
              "    </tr>\n",
              "    <tr>\n",
              "      <th>3</th>\n",
              "      <td>Удаленная работа</td>\n",
              "      <td>Частичная занятость</td>\n",
              "      <td>1312</td>\n",
              "    </tr>\n",
              "    <tr>\n",
              "      <th>4</th>\n",
              "      <td>Сменный график</td>\n",
              "      <td>Полная занятость</td>\n",
              "      <td>940</td>\n",
              "    </tr>\n",
              "    <tr>\n",
              "      <th>5</th>\n",
              "      <td>Полный день</td>\n",
              "      <td>Стажировка</td>\n",
              "      <td>569</td>\n",
              "    </tr>\n",
              "    <tr>\n",
              "      <th>6</th>\n",
              "      <td>Вахтовый метод</td>\n",
              "      <td>Полная занятость</td>\n",
              "      <td>367</td>\n",
              "    </tr>\n",
              "    <tr>\n",
              "      <th>7</th>\n",
              "      <td>Полный день</td>\n",
              "      <td>Частичная занятость</td>\n",
              "      <td>347</td>\n",
              "    </tr>\n",
              "    <tr>\n",
              "      <th>8</th>\n",
              "      <td>Гибкий график</td>\n",
              "      <td>Частичная занятость</td>\n",
              "      <td>312</td>\n",
              "    </tr>\n",
              "    <tr>\n",
              "      <th>9</th>\n",
              "      <td>Полный день</td>\n",
              "      <td>Проектная работа</td>\n",
              "      <td>141</td>\n",
              "    </tr>\n",
              "    <tr>\n",
              "      <th>10</th>\n",
              "      <td>Удаленная работа</td>\n",
              "      <td>Проектная работа</td>\n",
              "      <td>133</td>\n",
              "    </tr>\n",
              "    <tr>\n",
              "      <th>11</th>\n",
              "      <td>Гибкий график</td>\n",
              "      <td>Стажировка</td>\n",
              "      <td>116</td>\n",
              "    </tr>\n",
              "    <tr>\n",
              "      <th>12</th>\n",
              "      <td>Сменный график</td>\n",
              "      <td>Частичная занятость</td>\n",
              "      <td>101</td>\n",
              "    </tr>\n",
              "    <tr>\n",
              "      <th>13</th>\n",
              "      <td>Удаленная работа</td>\n",
              "      <td>Стажировка</td>\n",
              "      <td>64</td>\n",
              "    </tr>\n",
              "    <tr>\n",
              "      <th>14</th>\n",
              "      <td>Гибкий график</td>\n",
              "      <td>Проектная работа</td>\n",
              "      <td>18</td>\n",
              "    </tr>\n",
              "    <tr>\n",
              "      <th>15</th>\n",
              "      <td>Сменный график</td>\n",
              "      <td>Стажировка</td>\n",
              "      <td>12</td>\n",
              "    </tr>\n",
              "    <tr>\n",
              "      <th>16</th>\n",
              "      <td>Вахтовый метод</td>\n",
              "      <td>Проектная работа</td>\n",
              "      <td>2</td>\n",
              "    </tr>\n",
              "    <tr>\n",
              "      <th>17</th>\n",
              "      <td>Сменный график</td>\n",
              "      <td>Проектная работа</td>\n",
              "      <td>1</td>\n",
              "    </tr>\n",
              "  </tbody>\n",
              "</table>\n",
              "</div>"
            ],
            "text/plain": [
              "            schedule           employment  vacancy_count\n",
              "0        Полный день     Полная занятость          35367\n",
              "1   Удаленная работа     Полная занятость           7802\n",
              "2      Гибкий график     Полная занятость           1593\n",
              "3   Удаленная работа  Частичная занятость           1312\n",
              "4     Сменный график     Полная занятость            940\n",
              "5        Полный день           Стажировка            569\n",
              "6     Вахтовый метод     Полная занятость            367\n",
              "7        Полный день  Частичная занятость            347\n",
              "8      Гибкий график  Частичная занятость            312\n",
              "9        Полный день     Проектная работа            141\n",
              "10  Удаленная работа     Проектная работа            133\n",
              "11     Гибкий график           Стажировка            116\n",
              "12    Сменный график  Частичная занятость            101\n",
              "13  Удаленная работа           Стажировка             64\n",
              "14     Гибкий график     Проектная работа             18\n",
              "15    Сменный график           Стажировка             12\n",
              "16    Вахтовый метод     Проектная работа              2\n",
              "17    Сменный график     Проектная работа              1"
            ]
          },
          "execution_count": 221,
          "metadata": {},
          "output_type": "execute_result"
        }
      ],
      "source": [
        "# текст запроса\n",
        "query = f'''select                     \n",
        "                     schedule,\n",
        "                     employment,\n",
        "                     COUNT(*) AS vacancy_count /*считаем количество вакансий по вариантам сочетаний рабочего графика и типа занятости*/\n",
        "               \n",
        "                from \n",
        "                     vacancies \n",
        "                group by schedule, employment\n",
        "                order by vacancy_count desc                \n",
        "             '''\n",
        "df = pd.read_sql_query(query, connection)\n",
        "df"
      ]
    },
    {
      "cell_type": "code",
      "execution_count": null,
      "id": "lGUVqavdo4JQ",
      "metadata": {
        "id": "lGUVqavdo4JQ"
      },
      "outputs": [],
      "source": [
        "# результат запроса\n",
        "1\tУдаленная работа\tПолная занятость\t7802"
      ]
    },
    {
      "cell_type": "markdown",
      "id": "0136ffee-0ead-4a6b-b608-61d1c753a438",
      "metadata": {
        "id": "0136ffee-0ead-4a6b-b608-61d1c753a438"
      },
      "source": [
        "5. Напишите запрос, выводящий значения поля Требуемый опыт работы (experience) в порядке возрастания количества вакансий, в которых указан данный вариант опыта. "
      ]
    },
    {
      "cell_type": "code",
      "execution_count": null,
      "id": "5b3a8e79-f7ab-4008-b767-12aea3a205ea",
      "metadata": {
        "id": "5b3a8e79-f7ab-4008-b767-12aea3a205ea"
      },
      "outputs": [
        {
          "name": "stderr",
          "output_type": "stream",
          "text": [
            "C:\\Users\\Kaelis\\AppData\\Local\\Temp\\ipykernel_33600\\245015627.py:14: UserWarning: pandas only supports SQLAlchemy connectable (engine/connection) or database string URI or sqlite3 DBAPI2 connection. Other DBAPI2 objects are not tested. Please consider using SQLAlchemy.\n",
            "  df = pd.read_sql_query(query, connection)\n"
          ]
        },
        {
          "data": {
            "text/html": [
              "<div>\n",
              "<style scoped>\n",
              "    .dataframe tbody tr th:only-of-type {\n",
              "        vertical-align: middle;\n",
              "    }\n",
              "\n",
              "    .dataframe tbody tr th {\n",
              "        vertical-align: top;\n",
              "    }\n",
              "\n",
              "    .dataframe thead th {\n",
              "        text-align: right;\n",
              "    }\n",
              "</style>\n",
              "<table border=\"1\" class=\"dataframe\">\n",
              "  <thead>\n",
              "    <tr style=\"text-align: right;\">\n",
              "      <th></th>\n",
              "      <th>experience</th>\n",
              "      <th>count</th>\n",
              "    </tr>\n",
              "  </thead>\n",
              "  <tbody>\n",
              "    <tr>\n",
              "      <th>0</th>\n",
              "      <td>Более 6 лет</td>\n",
              "      <td>1337</td>\n",
              "    </tr>\n",
              "    <tr>\n",
              "      <th>1</th>\n",
              "      <td>Нет опыта</td>\n",
              "      <td>7197</td>\n",
              "    </tr>\n",
              "    <tr>\n",
              "      <th>2</th>\n",
              "      <td>От 3 до 6 лет</td>\n",
              "      <td>14511</td>\n",
              "    </tr>\n",
              "    <tr>\n",
              "      <th>3</th>\n",
              "      <td>От 1 года до 3 лет</td>\n",
              "      <td>26152</td>\n",
              "    </tr>\n",
              "  </tbody>\n",
              "</table>\n",
              "</div>"
            ],
            "text/plain": [
              "           experience  count\n",
              "0         Более 6 лет   1337\n",
              "1           Нет опыта   7197\n",
              "2       От 3 до 6 лет  14511\n",
              "3  От 1 года до 3 лет  26152"
            ]
          },
          "execution_count": 222,
          "metadata": {},
          "output_type": "execute_result"
        }
      ],
      "source": [
        "# текст запроса\n",
        "query = f'''select                     \n",
        "                     experience,\n",
        "                     COUNT(*) /*подсчитываем количество вакансий по критерию требуемого опыта*/\n",
        "                    \n",
        "                     \n",
        "                from \n",
        "                     vacancies\n",
        "                \n",
        "                GROUP BY experience\n",
        "                HAVING experience IS NOT NULL /*исключаем вакансии, в которых не указан требуемый опыт работы*/\n",
        "                ORDER BY count ASC\n",
        "             '''\n",
        "df = pd.read_sql_query(query, connection)\n",
        "df"
      ]
    },
    {
      "cell_type": "code",
      "execution_count": null,
      "id": "3Is64Y-hpDpq",
      "metadata": {
        "id": "3Is64Y-hpDpq"
      },
      "outputs": [],
      "source": [
        "# результат запроса\n",
        "\texperience\tcount\n",
        "0\tБолее 6 лет\t1337\n",
        "1\tНет опыта\t7197\n",
        "2\tОт 3 до 6 лет\t14511\n",
        "3\tОт 1 года до 3 лет\t26152"
      ]
    },
    {
      "cell_type": "markdown",
      "id": "oq2b7n1QpIka",
      "metadata": {
        "id": "oq2b7n1QpIka"
      },
      "source": [
        "***"
      ]
    },
    {
      "cell_type": "code",
      "execution_count": null,
      "id": "e91f87ed-e25c-4f96-9f92-b642e8c0b4fa",
      "metadata": {
        "id": "e91f87ed-e25c-4f96-9f92-b642e8c0b4fa"
      },
      "outputs": [],
      "source": [
        "# выводы по детальному анализу вакансий\n",
        "Наибольшее количество вакансий приходится на Москву - 5 333.\n",
        "В 24 073 вакансиях указано хотя бы одно значение желаемого уровня заработной платы.\n",
        "Среднее значение желаемой ЗП находится в пределах от 71 065 до 110537.\n",
        "Наиболее популярным сочетанием рабочего графика и типа трудоустройства является сочетание \"Полный день - Полная занятость\" - 35 367 вакансий.\n",
        "Наибольшее количество вакансий (26 152) предъявляют требования к опыту соискателей от 1 до 3х лет.\n"
      ]
    },
    {
      "cell_type": "markdown",
      "id": "7ea20ab6-04a7-40a0-adec-443a0e5a42c3",
      "metadata": {
        "id": "7ea20ab6-04a7-40a0-adec-443a0e5a42c3"
      },
      "source": [
        "# Юнит 5. Анализ работодателей"
      ]
    },
    {
      "cell_type": "markdown",
      "id": "968aed80-74ef-4ffb-b5bf-c65b84e9caea",
      "metadata": {
        "id": "968aed80-74ef-4ffb-b5bf-c65b84e9caea"
      },
      "source": [
        "1. Напишите запрос, который позволит узнать, какие работодатели находятся на первом и пятом месте по количеству вакансий."
      ]
    },
    {
      "cell_type": "code",
      "execution_count": null,
      "id": "f2d62796-d400-4ec1-a675-88112739a50e",
      "metadata": {
        "id": "f2d62796-d400-4ec1-a675-88112739a50e"
      },
      "outputs": [
        {
          "name": "stderr",
          "output_type": "stream",
          "text": [
            "C:\\Users\\Kaelis\\AppData\\Local\\Temp\\ipykernel_33600\\2437063445.py:14: UserWarning: pandas only supports SQLAlchemy connectable (engine/connection) or database string URI or sqlite3 DBAPI2 connection. Other DBAPI2 objects are not tested. Please consider using SQLAlchemy.\n",
            "  df = pd.read_sql_query(query, connection)\n"
          ]
        },
        {
          "data": {
            "text/html": [
              "<div>\n",
              "<style scoped>\n",
              "    .dataframe tbody tr th:only-of-type {\n",
              "        vertical-align: middle;\n",
              "    }\n",
              "\n",
              "    .dataframe tbody tr th {\n",
              "        vertical-align: top;\n",
              "    }\n",
              "\n",
              "    .dataframe thead th {\n",
              "        text-align: right;\n",
              "    }\n",
              "</style>\n",
              "<table border=\"1\" class=\"dataframe\">\n",
              "  <thead>\n",
              "    <tr style=\"text-align: right;\">\n",
              "      <th></th>\n",
              "      <th>name</th>\n",
              "      <th>count</th>\n",
              "    </tr>\n",
              "  </thead>\n",
              "  <tbody>\n",
              "    <tr>\n",
              "      <th>0</th>\n",
              "      <td>Яндекс</td>\n",
              "      <td>1933</td>\n",
              "    </tr>\n",
              "    <tr>\n",
              "      <th>1</th>\n",
              "      <td>Ростелеком</td>\n",
              "      <td>491</td>\n",
              "    </tr>\n",
              "    <tr>\n",
              "      <th>2</th>\n",
              "      <td>Тинькофф</td>\n",
              "      <td>444</td>\n",
              "    </tr>\n",
              "    <tr>\n",
              "      <th>3</th>\n",
              "      <td>СБЕР</td>\n",
              "      <td>428</td>\n",
              "    </tr>\n",
              "    <tr>\n",
              "      <th>4</th>\n",
              "      <td>Газпром нефть</td>\n",
              "      <td>331</td>\n",
              "    </tr>\n",
              "  </tbody>\n",
              "</table>\n",
              "</div>"
            ],
            "text/plain": [
              "            name  count\n",
              "0         Яндекс   1933\n",
              "1     Ростелеком    491\n",
              "2       Тинькофф    444\n",
              "3           СБЕР    428\n",
              "4  Газпром нефть    331"
            ]
          },
          "execution_count": 223,
          "metadata": {},
          "output_type": "execute_result"
        }
      ],
      "source": [
        "# текст запроса\n",
        "query = f'''select                     \n",
        "                     \n",
        "                     e.name, /*выводим наименование работодятеля из таблицы employers и кол-во вакансий из таблицы vacancies*/\n",
        "                     count(v.id)\n",
        "                    \n",
        "                from \n",
        "                     vacancies v join employers e ON e.id = v.employer_id /*соединяем таблицы вакансий и работодателей по id*/\n",
        "                group by e.name\n",
        "                order by count(v.id) desc\n",
        "                limit 5\n",
        "                \n",
        "             '''\n",
        "df = pd.read_sql_query(query, connection)\n",
        "df"
      ]
    },
    {
      "cell_type": "code",
      "execution_count": null,
      "id": "64tOMkAxqkQk",
      "metadata": {
        "id": "64tOMkAxqkQk"
      },
      "outputs": [],
      "source": [
        "# результат запроса\n",
        "\tname\tcount\n",
        "0\tЯндекс\t1933\n",
        "1\tРостелеком\t491\n",
        "2\tТинькофф\t444\n",
        "3\tСБЕР\t428\n",
        "4\tГазпром нефть\t331"
      ]
    },
    {
      "cell_type": "markdown",
      "id": "68377cfc-b378-43dc-ab7d-1195abf2c515",
      "metadata": {
        "id": "68377cfc-b378-43dc-ab7d-1195abf2c515"
      },
      "source": [
        "2. Напишите запрос, который для каждого региона выведет количество работодателей и вакансий в нём.\n",
        "Среди регионов, в которых нет вакансий, найдите тот, в котором наибольшее количество работодателей.\n"
      ]
    },
    {
      "cell_type": "code",
      "execution_count": null,
      "id": "dd7df27a-e3e8-412e-a21a-5d389b71e891",
      "metadata": {
        "id": "dd7df27a-e3e8-412e-a21a-5d389b71e891"
      },
      "outputs": [],
      "source": [
        "# текст запроса\n",
        "query = f'''select                     \n",
        "                     \n",
        "                     a.name area, /*для каждого наименования региона подсчитываем кол-во работодателей и вакансий*/\n",
        "                     count (e.id) employers,\n",
        "                     count (v.id) vacancies\n",
        "                    \n",
        "                from areas a /*добавляем к таблице регионов нанимателей и вакансии по id*/\n",
        "                    left join employers e ON a.id = e.area\n",
        "                    left join vacancies v ON v.area_id = a.id\n",
        "                where v.id is null /*условие для отбора регионов, в которых нет вакансий*/\n",
        "                group by a.name\n",
        "                Order by count (e.id) DESC\n",
        "                \n",
        "                \n",
        "             '''\n",
        "df = pd.read_sql_query(query, connection)\n",
        "df"
      ]
    },
    {
      "cell_type": "code",
      "execution_count": null,
      "id": "x1ikWbydrbf6",
      "metadata": {
        "id": "x1ikWbydrbf6"
      },
      "outputs": [],
      "source": [
        "# результат запроса\n",
        "\tarea\temployers\tvacancies\n",
        "0\tРоссия\t410\t0"
      ]
    },
    {
      "cell_type": "markdown",
      "id": "f2fe0acb-ab1a-4e15-9326-2560e22d73c1",
      "metadata": {
        "id": "f2fe0acb-ab1a-4e15-9326-2560e22d73c1"
      },
      "source": [
        "3. Для каждого работодателя посчитайте количество регионов, в которых он публикует свои вакансии. Отсортируйте результат по убыванию количества.\n"
      ]
    },
    {
      "cell_type": "code",
      "execution_count": null,
      "id": "6271f8ad-bd2e-4196-ae4a-5b39c4c1010e",
      "metadata": {
        "id": "6271f8ad-bd2e-4196-ae4a-5b39c4c1010e"
      },
      "outputs": [
        {
          "name": "stderr",
          "output_type": "stream",
          "text": [
            "C:\\Users\\Kaelis\\AppData\\Local\\Temp\\ipykernel_33600\\266892309.py:16: UserWarning: pandas only supports SQLAlchemy connectable (engine/connection) or database string URI or sqlite3 DBAPI2 connection. Other DBAPI2 objects are not tested. Please consider using SQLAlchemy.\n",
            "  df = pd.read_sql_query(query, connection)\n"
          ]
        },
        {
          "data": {
            "text/html": [
              "<div>\n",
              "<style scoped>\n",
              "    .dataframe tbody tr th:only-of-type {\n",
              "        vertical-align: middle;\n",
              "    }\n",
              "\n",
              "    .dataframe tbody tr th {\n",
              "        vertical-align: top;\n",
              "    }\n",
              "\n",
              "    .dataframe thead th {\n",
              "        text-align: right;\n",
              "    }\n",
              "</style>\n",
              "<table border=\"1\" class=\"dataframe\">\n",
              "  <thead>\n",
              "    <tr style=\"text-align: right;\">\n",
              "      <th></th>\n",
              "      <th>employer</th>\n",
              "      <th>cnt_areas</th>\n",
              "    </tr>\n",
              "  </thead>\n",
              "  <tbody>\n",
              "    <tr>\n",
              "      <th>0</th>\n",
              "      <td>Яндекс</td>\n",
              "      <td>181</td>\n",
              "    </tr>\n",
              "    <tr>\n",
              "      <th>1</th>\n",
              "      <td>Ростелеком</td>\n",
              "      <td>152</td>\n",
              "    </tr>\n",
              "    <tr>\n",
              "      <th>2</th>\n",
              "      <td>Тинькофф</td>\n",
              "      <td>43</td>\n",
              "    </tr>\n",
              "    <tr>\n",
              "      <th>3</th>\n",
              "      <td>СБЕР</td>\n",
              "      <td>24</td>\n",
              "    </tr>\n",
              "    <tr>\n",
              "      <th>4</th>\n",
              "      <td>Газпром нефть</td>\n",
              "      <td>24</td>\n",
              "    </tr>\n",
              "    <tr>\n",
              "      <th>...</th>\n",
              "      <td>...</td>\n",
              "      <td>...</td>\n",
              "    </tr>\n",
              "    <tr>\n",
              "      <th>14761</th>\n",
              "      <td>ПСБ Инновации и Инвестиции</td>\n",
              "      <td>1</td>\n",
              "    </tr>\n",
              "    <tr>\n",
              "      <th>14762</th>\n",
              "      <td>ПСЗ Янтарь</td>\n",
              "      <td>1</td>\n",
              "    </tr>\n",
              "    <tr>\n",
              "      <th>14763</th>\n",
              "      <td>ПСК</td>\n",
              "      <td>1</td>\n",
              "    </tr>\n",
              "    <tr>\n",
              "      <th>14764</th>\n",
              "      <td>Псковский завод механических приводов</td>\n",
              "      <td>1</td>\n",
              "    </tr>\n",
              "    <tr>\n",
              "      <th>14765</th>\n",
              "      <td>ПСК ТатЭнергоСтрой</td>\n",
              "      <td>1</td>\n",
              "    </tr>\n",
              "  </tbody>\n",
              "</table>\n",
              "<p>14766 rows × 2 columns</p>\n",
              "</div>"
            ],
            "text/plain": [
              "                                    employer  cnt_areas\n",
              "0                                     Яндекс        181\n",
              "1                                 Ростелеком        152\n",
              "2                                   Тинькофф         43\n",
              "3                                       СБЕР         24\n",
              "4                              Газпром нефть         24\n",
              "...                                      ...        ...\n",
              "14761             ПСБ Инновации и Инвестиции          1\n",
              "14762                             ПСЗ Янтарь          1\n",
              "14763                                    ПСК          1\n",
              "14764  Псковский завод механических приводов          1\n",
              "14765                     ПСК ТатЭнергоСтрой          1\n",
              "\n",
              "[14766 rows x 2 columns]"
            ]
          },
          "execution_count": 224,
          "metadata": {},
          "output_type": "execute_result"
        }
      ],
      "source": [
        "# текст запроса\n",
        "query = f'''select                     \n",
        "                     \n",
        "                     e.name AS employer, /*выводим наименование работодателя и кол-во уникальных регионов, где размещены его вакансии*/\n",
        "                     count (DISTINCT v.area_id) cnt_areas\n",
        "                     \n",
        "                    \n",
        "                from employers e\n",
        "                    join vacancies v ON e.id = v.employer_id /*соединяем таблицы работодателей и вакансий по id*/\n",
        "                    \n",
        "                group by e.name\n",
        "                Order by count (v.area_id) DESC\n",
        "                \n",
        "                \n",
        "             '''\n",
        "df = pd.read_sql_query(query, connection)\n",
        "df"
      ]
    },
    {
      "cell_type": "code",
      "execution_count": null,
      "id": "1EIvX3HasH4F",
      "metadata": {
        "id": "1EIvX3HasH4F"
      },
      "outputs": [],
      "source": [
        "# результат запроса\n",
        "employer\tcnt_areas\n",
        "0\tЯндекс\t181"
      ]
    },
    {
      "cell_type": "markdown",
      "id": "eab2206d-d95b-468b-8e5f-34381abf0ce7",
      "metadata": {
        "id": "eab2206d-d95b-468b-8e5f-34381abf0ce7"
      },
      "source": [
        "4. Напишите запрос для подсчёта количества работодателей, у которых не указана сфера деятельности. "
      ]
    },
    {
      "cell_type": "code",
      "execution_count": null,
      "id": "80defb23-bfb1-4a18-8be6-bf36aa7165d5",
      "metadata": {
        "id": "80defb23-bfb1-4a18-8be6-bf36aa7165d5"
      },
      "outputs": [
        {
          "name": "stderr",
          "output_type": "stream",
          "text": [
            "C:\\Users\\Kaelis\\AppData\\Local\\Temp\\ipykernel_33600\\2679280710.py:13: UserWarning: pandas only supports SQLAlchemy connectable (engine/connection) or database string URI or sqlite3 DBAPI2 connection. Other DBAPI2 objects are not tested. Please consider using SQLAlchemy.\n",
            "  df = pd.read_sql_query(query, connection)\n"
          ]
        },
        {
          "data": {
            "text/html": [
              "<div>\n",
              "<style scoped>\n",
              "    .dataframe tbody tr th:only-of-type {\n",
              "        vertical-align: middle;\n",
              "    }\n",
              "\n",
              "    .dataframe tbody tr th {\n",
              "        vertical-align: top;\n",
              "    }\n",
              "\n",
              "    .dataframe thead th {\n",
              "        text-align: right;\n",
              "    }\n",
              "</style>\n",
              "<table border=\"1\" class=\"dataframe\">\n",
              "  <thead>\n",
              "    <tr style=\"text-align: right;\">\n",
              "      <th></th>\n",
              "      <th>count</th>\n",
              "    </tr>\n",
              "  </thead>\n",
              "  <tbody>\n",
              "    <tr>\n",
              "      <th>0</th>\n",
              "      <td>8419</td>\n",
              "    </tr>\n",
              "  </tbody>\n",
              "</table>\n",
              "</div>"
            ],
            "text/plain": [
              "   count\n",
              "0   8419"
            ]
          },
          "execution_count": 225,
          "metadata": {},
          "output_type": "execute_result"
        }
      ],
      "source": [
        "# текст запроса\n",
        "query = f'''select                     \n",
        "                     \n",
        "                COUNT(e.name)\n",
        " \n",
        "                from employers AS e /*присоединяем к таблице работодателей значения сфер деятельности*/\n",
        "                LEFT JOIN employers_industries AS ei ON e.id = ei.employer_id\n",
        "                where industry_id is NULL /*критерий отбора - работодатели у которых сфера деятельности отсутствует*/\n",
        "                    \n",
        "                \n",
        "                \n",
        "                \n",
        "             '''\n",
        "df = pd.read_sql_query(query, connection)\n",
        "df"
      ]
    },
    {
      "cell_type": "code",
      "execution_count": null,
      "id": "Dp_yCx6ysQSu",
      "metadata": {
        "id": "Dp_yCx6ysQSu"
      },
      "outputs": [],
      "source": [
        "# результат запроса\n",
        "8419"
      ]
    },
    {
      "cell_type": "markdown",
      "id": "0112af31-f6b0-4e3b-82ab-71296e752e5e",
      "metadata": {
        "id": "0112af31-f6b0-4e3b-82ab-71296e752e5e"
      },
      "source": [
        "5. Напишите запрос, чтобы узнать название компании, находящейся на третьем месте в алфавитном списке (по названию) компаний, у которых указано четыре сферы деятельности. "
      ]
    },
    {
      "cell_type": "code",
      "execution_count": null,
      "id": "973b0cfc-a972-470a-8b4a-68744ef220c4",
      "metadata": {
        "id": "973b0cfc-a972-470a-8b4a-68744ef220c4"
      },
      "outputs": [],
      "source": [
        "# текст запроса\n",
        "query = f'''select                     \n",
        "                e.name,     \n",
        "                ei.employer_id,\n",
        "                COUNT (ei.industry_id) /*подсчет количества сфер деятельности*/\n",
        "                \n",
        "                from employers_industries AS ei LEFT JOIN employers AS e ON ei.employer_id = e.id /*присоединяем название работодателя к перечню сфер деятельности по id*/\n",
        "                \n",
        "                GROUP BY ei.employer_id, e.name\n",
        "                HAVING COUNT (ei.industry_id) = 4 /*отбор по количеству сфер деятельности равному четырем*/\n",
        "                ORDER BY e.name\n",
        "                LiMIT 1 /*выводим третье значение - одна строка с пропуском двух первых результатов*/\n",
        "                OFFSET 2    \n",
        "                \n",
        "                \n",
        "                \n",
        "             '''\n",
        "df = pd.read_sql_query(query, connection)\n",
        "df"
      ]
    },
    {
      "cell_type": "code",
      "execution_count": null,
      "id": "xsPtpp8EsaED",
      "metadata": {
        "id": "xsPtpp8EsaED"
      },
      "outputs": [],
      "source": [
        "# результат запроса\n",
        "2ГИС"
      ]
    },
    {
      "cell_type": "markdown",
      "id": "3bfcfdaf-755d-4d2b-8ed8-326201dc07ab",
      "metadata": {
        "id": "3bfcfdaf-755d-4d2b-8ed8-326201dc07ab"
      },
      "source": [
        "6. С помощью запроса выясните, у какого количества работодателей в качестве сферы деятельности указана Разработка программного обеспечения.\n"
      ]
    },
    {
      "cell_type": "code",
      "execution_count": null,
      "id": "ad3f270f-2991-47eb-929b-e8f88a55b0d1",
      "metadata": {
        "id": "ad3f270f-2991-47eb-929b-e8f88a55b0d1"
      },
      "outputs": [
        {
          "name": "stderr",
          "output_type": "stream",
          "text": [
            "C:\\Users\\Kaelis\\AppData\\Local\\Temp\\ipykernel_33600\\2697653425.py:14: UserWarning: pandas only supports SQLAlchemy connectable (engine/connection) or database string URI or sqlite3 DBAPI2 connection. Other DBAPI2 objects are not tested. Please consider using SQLAlchemy.\n",
            "  df = pd.read_sql_query(query, connection)\n"
          ]
        },
        {
          "data": {
            "text/html": [
              "<div>\n",
              "<style scoped>\n",
              "    .dataframe tbody tr th:only-of-type {\n",
              "        vertical-align: middle;\n",
              "    }\n",
              "\n",
              "    .dataframe tbody tr th {\n",
              "        vertical-align: top;\n",
              "    }\n",
              "\n",
              "    .dataframe thead th {\n",
              "        text-align: right;\n",
              "    }\n",
              "</style>\n",
              "<table border=\"1\" class=\"dataframe\">\n",
              "  <thead>\n",
              "    <tr style=\"text-align: right;\">\n",
              "      <th></th>\n",
              "      <th>name</th>\n",
              "      <th>count</th>\n",
              "    </tr>\n",
              "  </thead>\n",
              "  <tbody>\n",
              "    <tr>\n",
              "      <th>0</th>\n",
              "      <td>Разработка программного обеспечения</td>\n",
              "      <td>3553</td>\n",
              "    </tr>\n",
              "  </tbody>\n",
              "</table>\n",
              "</div>"
            ],
            "text/plain": [
              "                                  name  count\n",
              "0  Разработка программного обеспечения   3553"
            ]
          },
          "execution_count": 205,
          "metadata": {},
          "output_type": "execute_result"
        }
      ],
      "source": [
        "# текст запроса\n",
        "query = f'''select   \n",
        "                i.name,                  \n",
        "                COUNT(ei.employer_id) \n",
        "                                                \n",
        "                from employers_industries AS ei LEFT JOIN industries AS i ON ei.industry_id = i.id /*присоединяем к перечню сфер деятельности наименования по id*/\n",
        "                WHERE i.name = 'Разработка программного обеспечения' /*критерий отбора по признаку \"Разработка ПО\"*/\n",
        "                GROUP BY i.name\n",
        "                   \n",
        "                \n",
        "                \n",
        "                \n",
        "             '''\n",
        "df = pd.read_sql_query(query, connection)\n",
        "df"
      ]
    },
    {
      "cell_type": "code",
      "execution_count": null,
      "id": "H72qxWM0shPR",
      "metadata": {
        "id": "H72qxWM0shPR"
      },
      "outputs": [],
      "source": [
        "# результат запроса\n",
        "3553"
      ]
    },
    {
      "cell_type": "markdown",
      "id": "7b02bb86-0546-40fb-94a4-242f050a5c57",
      "metadata": {
        "id": "7b02bb86-0546-40fb-94a4-242f050a5c57"
      },
      "source": [
        "7. Для компании «Яндекс» выведите список регионов-миллионников, в которых представлены вакансии компании, вместе с количеством вакансий в этих регионах. Также добавьте строку Total с общим количеством вакансий компании. Результат отсортируйте по возрастанию количества.\n",
        "\n",
        "Список городов-милионников надо взять [отсюда](https://ru.wikipedia.org/wiki/%D0%93%D0%BE%D1%80%D0%BE%D0%B4%D0%B0-%D0%BC%D0%B8%D0%BB%D0%BB%D0%B8%D0%BE%D0%BD%D0%B5%D1%80%D1%8B_%D0%A0%D0%BE%D1%81%D1%81%D0%B8%D0%B8). \n",
        "\n",
        "Если возникнут трудности с этим задание посмотрите материалы модуля  PYTHON-17. Как получать данные из веб-источников и API. "
      ]
    },
    {
      "cell_type": "code",
      "execution_count": null,
      "id": "ZdfrL6gIs1Pn",
      "metadata": {
        "id": "ZdfrL6gIs1Pn"
      },
      "outputs": [],
      "source": [
        "# код для получения списка городов-милионников\n",
        "import requests \n",
        "from bs4 import BeautifulSoup \n",
        "\n",
        "url = 'https://ru.wikipedia.org/wiki/Города-миллионеры_России' \n",
        "response = requests.get(url)\n",
        "# дальше работа с содержимым страницы\n",
        "page = BeautifulSoup(response.text, 'html.parser') # Создаём объект BeautifulSoup, указывая html-парсер\n",
        "data = []\n",
        "HTML_data = page.find_all(\"table\")[0].find_all(\"tr\")[1:]\n",
        "for element in HTML_data:\n",
        "    sub_data = []\n",
        "    for i,k in enumerate(element):\n",
        "        try:\n",
        "            if i == 1:\n",
        "                sub_data.append(k.get_text())\n",
        "        except:\n",
        "            continue\n",
        "    data.append(sub_data)\n",
        "data_result = []\n",
        "for elem in data:\n",
        "    data_result.extend(elem)\n",
        "data_result = tuple(data_result)\n",
        "data_result"
      ]
    },
    {
      "cell_type": "code",
      "execution_count": null,
      "id": "5a0e32a4-e68a-4365-8a39-2fe24c542c36",
      "metadata": {
        "id": "5a0e32a4-e68a-4365-8a39-2fe24c542c36"
      },
      "outputs": [],
      "source": [
        "# текст запроса\n",
        "query = f'''WITH temp AS (select   \n",
        "                a.name,                  \n",
        "                COUNT(v.id) AS cnt\n",
        "                                                \n",
        "               from vacancies v\n",
        "               left join employers e on v.employer_id = e.id /*добавляем к перечню вакансий работодателей и регионы по id*/\n",
        "               left join areas a on a.id = v.area_id\n",
        "               where e.name = 'Яндекс' AND a.name in {data_result} /*отбор по работодателю \"Яндекс\" и регионы из запроса по городам-миллионникам*/\n",
        "               GROUP BY a.name\n",
        "               ORDER BY COUNT(v.id))\n",
        "                \n",
        "               SELECT * FROM temp /*суммируем общее число вакансий из предыдущего запроса*/\n",
        "               UNION ALL\n",
        "               SELECT 'Total', SUM(cnt) FROM temp\n",
        "\n",
        "                \n",
        "                   \n",
        "                \n",
        "                \n",
        "                \n",
        "             '''\n",
        "df = pd.read_sql_query(query, connection)\n",
        "df"
      ]
    },
    {
      "cell_type": "code",
      "execution_count": null,
      "id": "ttPhiO1rsvPq",
      "metadata": {
        "id": "ttPhiO1rsvPq"
      },
      "outputs": [],
      "source": [
        "# результат запроса\n",
        "\n",
        "\tname\tcnt\n",
        "0\tОмск\t21.0\n",
        "1\tЧелябинск\t22.0\n",
        "2\tКрасноярск\t23.0\n",
        "3\tВолгоград\t24.0\n",
        "4\tПермь\t25.0\n",
        "5\tКазань\t25.0\n",
        "6\tРостов-на-Дону\t25.0\n",
        "7\tУфа\t26.0\n",
        "8\tСамара\t26.0\n",
        "9\tКраснодар\t30.0\n",
        "10\tВоронеж\t32.0\n",
        "11\tНовосибирск\t35.0\n",
        "12\tНижний Новгород\t36.0\n",
        "13\tЕкатеринбург\t39.0\n",
        "14\tСанкт-Петербург\t42.0\n",
        "15\tМосква\t54.0\n",
        "16\tTotal\t485.0"
      ]
    },
    {
      "cell_type": "markdown",
      "id": "04966e40-3bc3-4dc8-9ba2-e80580ce3abc",
      "metadata": {
        "id": "04966e40-3bc3-4dc8-9ba2-e80580ce3abc"
      },
      "source": [
        "***"
      ]
    },
    {
      "cell_type": "code",
      "execution_count": null,
      "id": "aGGyER-yt4SR",
      "metadata": {
        "id": "aGGyER-yt4SR"
      },
      "outputs": [],
      "source": [
        "# выводы по анализу работодателей\n",
        "Компания \"Яндекс\" находится на первом месте по количеству вакансий (1 933).\n",
        "Наибольшее число работодателей (410), расположенных в регионе в котором нет вакансий находится в регионе \"Россия\".\n",
        "Раблтодателем с наибольшим количеством регионов в которых размещены вакансии является компания \"Яндекс\" - представлена в 181 регионе.\n",
        "8 419 работодателей не указывают свою сферу деятельности при размещении вакансий.\n",
        "1 138 компаний относят себя к 4м сферам деятельности.\n",
        "Разработка программного обеспечения указана в качестве сферы деятельности у\t3 553 компаний.\n",
        "Компания \"Яндекс\" разместила 485 вакансий в городах с населением более 1 млн. человек.\n",
        "\n"
      ]
    },
    {
      "cell_type": "markdown",
      "id": "b1ef156a-efcb-49ce-bb23-90763e7f35b2",
      "metadata": {
        "id": "b1ef156a-efcb-49ce-bb23-90763e7f35b2",
        "tags": []
      },
      "source": [
        "# Юнит 6. Предметный анализ"
      ]
    },
    {
      "cell_type": "markdown",
      "id": "b9cd50a0-992d-4988-8463-2b2b1c4629b4",
      "metadata": {
        "id": "b9cd50a0-992d-4988-8463-2b2b1c4629b4"
      },
      "source": [
        "1. Сколько вакансий имеет отношение к данным?\n",
        "\n",
        "Считаем, что вакансия имеет отношение к данным, если в её названии содержатся слова 'data' или 'данн'.\n",
        "\n",
        "*Подсказка: Обратите внимание, что названия вакансий могут быть написаны в любом регистре.* \n"
      ]
    },
    {
      "cell_type": "code",
      "execution_count": null,
      "id": "54ab0e50-c0f1-47cc-a54b-bc5c8bc363f9",
      "metadata": {
        "id": "54ab0e50-c0f1-47cc-a54b-bc5c8bc363f9"
      },
      "outputs": [
        {
          "name": "stderr",
          "output_type": "stream",
          "text": [
            "C:\\Users\\Kaelis\\AppData\\Local\\Temp\\ipykernel_33600\\2524773376.py:13: UserWarning: pandas only supports SQLAlchemy connectable (engine/connection) or database string URI or sqlite3 DBAPI2 connection. Other DBAPI2 objects are not tested. Please consider using SQLAlchemy.\n",
            "  df = pd.read_sql_query(query, connection)\n"
          ]
        },
        {
          "data": {
            "text/html": [
              "<div>\n",
              "<style scoped>\n",
              "    .dataframe tbody tr th:only-of-type {\n",
              "        vertical-align: middle;\n",
              "    }\n",
              "\n",
              "    .dataframe tbody tr th {\n",
              "        vertical-align: top;\n",
              "    }\n",
              "\n",
              "    .dataframe thead th {\n",
              "        text-align: right;\n",
              "    }\n",
              "</style>\n",
              "<table border=\"1\" class=\"dataframe\">\n",
              "  <thead>\n",
              "    <tr style=\"text-align: right;\">\n",
              "      <th></th>\n",
              "      <th>count</th>\n",
              "    </tr>\n",
              "  </thead>\n",
              "  <tbody>\n",
              "    <tr>\n",
              "      <th>0</th>\n",
              "      <td>1771</td>\n",
              "    </tr>\n",
              "  </tbody>\n",
              "</table>\n",
              "</div>"
            ],
            "text/plain": [
              "   count\n",
              "0   1771"
            ]
          },
          "execution_count": 226,
          "metadata": {},
          "output_type": "execute_result"
        }
      ],
      "source": [
        "# текст запроса\n",
        "query = f'''select   \n",
        "                COUNT(name)                  \n",
        "                \n",
        "                from vacancies\n",
        "                WHERE lower(name) LIKE '%data%' OR lower(name) LIKE '%данн%' /*приводим запрос к нижнему регистру*/\n",
        "                \n",
        "                   \n",
        "                \n",
        "                \n",
        "                \n",
        "             '''\n",
        "df = pd.read_sql_query(query, connection)\n",
        "df"
      ]
    },
    {
      "cell_type": "code",
      "execution_count": null,
      "id": "9F1meAqsuUjd",
      "metadata": {
        "id": "9F1meAqsuUjd"
      },
      "outputs": [],
      "source": [
        "# результат запроса\n",
        "1771"
      ]
    },
    {
      "cell_type": "markdown",
      "id": "4dea20cb-a36b-474a-a0b9-e08e8e3857a5",
      "metadata": {
        "id": "4dea20cb-a36b-474a-a0b9-e08e8e3857a5"
      },
      "source": [
        "2. Сколько есть подходящих вакансий для начинающего дата-сайентиста? \n",
        "Будем считать вакансиями для дата-сайентистов такие, в названии которых есть хотя бы одно из следующих сочетаний:\n",
        "* 'data scientist'\n",
        "* 'data science'\n",
        "* 'исследователь данных'\n",
        "* 'ML' (здесь не нужно брать вакансии по HTML)\n",
        "* 'machine learning'\n",
        "* 'машинн%обучен%'\n",
        "\n",
        "** В следующих заданиях мы продолжим работать с вакансиями по этому условию.*\n",
        "\n",
        "Считаем вакансиями для специалистов уровня Junior следующие:\n",
        "* в названии есть слово 'junior' *или*\n",
        "* требуемый опыт — Нет опыта *или*\n",
        "* тип трудоустройства — Стажировка.\n",
        " "
      ]
    },
    {
      "cell_type": "code",
      "execution_count": null,
      "id": "50c5e8fc",
      "metadata": {},
      "outputs": [
        {
          "name": "stderr",
          "output_type": "stream",
          "text": [
            "C:\\Users\\Kaelis\\AppData\\Local\\Temp\\ipykernel_33600\\4008219531.py:20: UserWarning: pandas only supports SQLAlchemy connectable (engine/connection) or database string URI or sqlite3 DBAPI2 connection. Other DBAPI2 objects are not tested. Please consider using SQLAlchemy.\n",
            "  df = pd.read_sql_query(query, connection)\n"
          ]
        },
        {
          "data": {
            "text/html": [
              "<div>\n",
              "<style scoped>\n",
              "    .dataframe tbody tr th:only-of-type {\n",
              "        vertical-align: middle;\n",
              "    }\n",
              "\n",
              "    .dataframe tbody tr th {\n",
              "        vertical-align: top;\n",
              "    }\n",
              "\n",
              "    .dataframe thead th {\n",
              "        text-align: right;\n",
              "    }\n",
              "</style>\n",
              "<table border=\"1\" class=\"dataframe\">\n",
              "  <thead>\n",
              "    <tr style=\"text-align: right;\">\n",
              "      <th></th>\n",
              "      <th>count</th>\n",
              "    </tr>\n",
              "  </thead>\n",
              "  <tbody>\n",
              "    <tr>\n",
              "      <th>0</th>\n",
              "      <td>51</td>\n",
              "    </tr>\n",
              "  </tbody>\n",
              "</table>\n",
              "</div>"
            ],
            "text/plain": [
              "   count\n",
              "0     51"
            ]
          },
          "execution_count": 388,
          "metadata": {},
          "output_type": "execute_result"
        }
      ],
      "source": [
        "# текст запроса\n",
        "\n",
        "query = f'''select   \n",
        "                COUNT(id)                  \n",
        "                \n",
        "                from vacancies\n",
        "                where (name ILIKE '%data scientist%' OR  /*формируем набор фильтров по содержанию в имени, при запросе через ILIKE игнорируем регистр*/\n",
        "                      name ILIKE '%data science%' OR  \n",
        "                      name ILIKE '%исследователь данных%' OR\n",
        "                      (name ILIKE '%ML%' AND name NOT ILIKE '%HTML%') OR\n",
        "                      name ILIKE '%machine learning%' OR\n",
        "                      name ILIKE '%машинн%обучен%')\n",
        "                      \n",
        "                      AND (name ILIKE '%junior%' OR  /*формируем набор фильтров по отборам на \"новичка\", игнорируем регистр*/\n",
        "                          experience = 'Нет опыта' OR\n",
        "                          employment = 'Стажировка')\n",
        "                \n",
        "                \n",
        "             '''\n",
        "df = pd.read_sql_query(query, connection)\n",
        "df"
      ]
    },
    {
      "cell_type": "code",
      "execution_count": null,
      "id": "ZNM-LLYuu1dj",
      "metadata": {
        "id": "ZNM-LLYuu1dj"
      },
      "outputs": [],
      "source": [
        "# результат запроса\n",
        "51"
      ]
    },
    {
      "cell_type": "markdown",
      "id": "eedceb80-c5ca-480e-b27a-278dfb8b4438",
      "metadata": {
        "id": "eedceb80-c5ca-480e-b27a-278dfb8b4438"
      },
      "source": [
        "3. Сколько есть вакансий для DS, в которых в качестве ключевого навыка указан SQL или postgres?\n",
        "\n",
        "** Критерии для отнесения вакансии к DS указаны в предыдущем задании.*"
      ]
    },
    {
      "cell_type": "code",
      "execution_count": null,
      "id": "69621713-0cc5-4f1b-a1d7-bb144fa6148c",
      "metadata": {
        "id": "69621713-0cc5-4f1b-a1d7-bb144fa6148c"
      },
      "outputs": [
        {
          "name": "stderr",
          "output_type": "stream",
          "text": [
            "C:\\Users\\Kaelis\\AppData\\Local\\Temp\\ipykernel_33600\\554454291.py:21: UserWarning: pandas only supports SQLAlchemy connectable (engine/connection) or database string URI or sqlite3 DBAPI2 connection. Other DBAPI2 objects are not tested. Please consider using SQLAlchemy.\n",
            "  df = pd.read_sql_query(query, connection)\n"
          ]
        },
        {
          "data": {
            "text/html": [
              "<div>\n",
              "<style scoped>\n",
              "    .dataframe tbody tr th:only-of-type {\n",
              "        vertical-align: middle;\n",
              "    }\n",
              "\n",
              "    .dataframe tbody tr th {\n",
              "        vertical-align: top;\n",
              "    }\n",
              "\n",
              "    .dataframe thead th {\n",
              "        text-align: right;\n",
              "    }\n",
              "</style>\n",
              "<table border=\"1\" class=\"dataframe\">\n",
              "  <thead>\n",
              "    <tr style=\"text-align: right;\">\n",
              "      <th></th>\n",
              "      <th>count</th>\n",
              "    </tr>\n",
              "  </thead>\n",
              "  <tbody>\n",
              "    <tr>\n",
              "      <th>0</th>\n",
              "      <td>229</td>\n",
              "    </tr>\n",
              "  </tbody>\n",
              "</table>\n",
              "</div>"
            ],
            "text/plain": [
              "   count\n",
              "0    229"
            ]
          },
          "execution_count": 451,
          "metadata": {},
          "output_type": "execute_result"
        }
      ],
      "source": [
        "# текст запроса\n",
        "\n",
        "query = f'''select   \n",
        "                COUNT(id)                  \n",
        "                --*\n",
        "                from vacancies\n",
        "                where (name ILIKE '%data scientist%' OR  /*формируем набор фильтров по содержанию в имени, при запросе через ILIKE игнорируем регистр*/\n",
        "                      name ILIKE '%data science%' OR  \n",
        "                      name ILIKE '%исследователь данных%' OR\n",
        "                      (name ILIKE '%ML%' AND name NOT ILIKE '%HTML%') OR\n",
        "                      name ILIKE '%machine learning%' OR\n",
        "                      name ILIKE '%машинн%обучен%' )\n",
        "                      \n",
        "                      \n",
        "                      AND (key_skills IS NOT NULL AND key_skills ILIKE '%SQL%' OR key_skills ILIKE '%postgres%') /*отбираем навыки по 'SQL' или postgres*/\n",
        "                                            \n",
        "\n",
        "                \n",
        "                \n",
        "             '''\n",
        "df = pd.read_sql_query(query, connection)\n",
        "df\n",
        "    "
      ]
    },
    {
      "cell_type": "code",
      "execution_count": null,
      "id": "alA8WEAAvGdf",
      "metadata": {
        "id": "alA8WEAAvGdf"
      },
      "outputs": [],
      "source": [
        "# результат запроса\n",
        "229"
      ]
    },
    {
      "cell_type": "markdown",
      "id": "1be1e9c6-37cf-4a5f-bfeb-04cab799dc80",
      "metadata": {
        "id": "1be1e9c6-37cf-4a5f-bfeb-04cab799dc80"
      },
      "source": [
        "4. Проверьте, насколько популярен Python в требованиях работодателей к DS.Для этого вычислите количество вакансий, в которых в качестве ключевого навыка указан Python.\n",
        "\n",
        "** Это можно сделать помощью запроса, аналогичного предыдущему.*"
      ]
    },
    {
      "cell_type": "code",
      "execution_count": null,
      "id": "0036a355-9ccf-4564-8b01-73d8194297e7",
      "metadata": {
        "id": "0036a355-9ccf-4564-8b01-73d8194297e7"
      },
      "outputs": [
        {
          "name": "stderr",
          "output_type": "stream",
          "text": [
            "C:\\Users\\Kaelis\\AppData\\Local\\Temp\\ipykernel_24384\\3107641972.py:21: UserWarning: pandas only supports SQLAlchemy connectable (engine/connection) or database string URI or sqlite3 DBAPI2 connection. Other DBAPI2 objects are not tested. Please consider using SQLAlchemy.\n",
            "  df = pd.read_sql_query(query, connection)\n"
          ]
        },
        {
          "data": {
            "text/html": [
              "<div>\n",
              "<style scoped>\n",
              "    .dataframe tbody tr th:only-of-type {\n",
              "        vertical-align: middle;\n",
              "    }\n",
              "\n",
              "    .dataframe tbody tr th {\n",
              "        vertical-align: top;\n",
              "    }\n",
              "\n",
              "    .dataframe thead th {\n",
              "        text-align: right;\n",
              "    }\n",
              "</style>\n",
              "<table border=\"1\" class=\"dataframe\">\n",
              "  <thead>\n",
              "    <tr style=\"text-align: right;\">\n",
              "      <th></th>\n",
              "      <th>count</th>\n",
              "    </tr>\n",
              "  </thead>\n",
              "  <tbody>\n",
              "    <tr>\n",
              "      <th>0</th>\n",
              "      <td>357</td>\n",
              "    </tr>\n",
              "  </tbody>\n",
              "</table>\n",
              "</div>"
            ],
            "text/plain": [
              "   count\n",
              "0    357"
            ]
          },
          "execution_count": 29,
          "metadata": {},
          "output_type": "execute_result"
        }
      ],
      "source": [
        "# текст запроса\n",
        "\n",
        "query = f'''select   \n",
        "                COUNT(id)                  \n",
        "                \n",
        "                from vacancies\n",
        "                where (name ILIKE '%data scientist%' OR  /*формируем набор фильтров по содержанию в имени, при запросе через ILIKE игнорируем регистр*/\n",
        "                      name ILIKE '%data science%' OR  \n",
        "                      name ILIKE '%исследователь данных%' OR\n",
        "                      (name ILIKE '%ML%' AND name NOT ILIKE '%HTML%') OR\n",
        "                      name ILIKE '%machine learning%' OR\n",
        "                      name ILIKE '%машинн%обучен%' )\n",
        "                      \n",
        "                      \n",
        "                      AND (key_skills IS NOT NULL AND key_skills ILIKE '%python%') /*отбираем навыки по ключу 'python'*/\n",
        "                                            \n",
        "\n",
        "                \n",
        "                \n",
        "             '''\n",
        "df = pd.read_sql_query(query, connection)\n",
        "df"
      ]
    },
    {
      "cell_type": "code",
      "execution_count": null,
      "id": "1i-5WyucvQ6v",
      "metadata": {
        "id": "1i-5WyucvQ6v"
      },
      "outputs": [],
      "source": [
        "# результат запроса\n",
        "357"
      ]
    },
    {
      "cell_type": "markdown",
      "id": "ec3c8db7-fa21-4a41-a994-1af63742a642",
      "metadata": {
        "id": "ec3c8db7-fa21-4a41-a994-1af63742a642"
      },
      "source": [
        "5. Сколько ключевых навыков в среднем указывают в вакансиях для DS?\n",
        "Ответ округлите до двух знаков после точки-разделителя."
      ]
    },
    {
      "cell_type": "code",
      "execution_count": null,
      "id": "949132bc-d5b6-4611-8218-0b9a504d74f4",
      "metadata": {
        "id": "949132bc-d5b6-4611-8218-0b9a504d74f4"
      },
      "outputs": [
        {
          "name": "stderr",
          "output_type": "stream",
          "text": [
            "C:\\Users\\Kaelis\\AppData\\Local\\Temp\\ipykernel_24384\\3467308496.py:22: UserWarning: pandas only supports SQLAlchemy connectable (engine/connection) or database string URI or sqlite3 DBAPI2 connection. Other DBAPI2 objects are not tested. Please consider using SQLAlchemy.\n",
            "  df = pd.read_sql_query(query, connection)\n"
          ]
        },
        {
          "data": {
            "text/html": [
              "<div>\n",
              "<style scoped>\n",
              "    .dataframe tbody tr th:only-of-type {\n",
              "        vertical-align: middle;\n",
              "    }\n",
              "\n",
              "    .dataframe tbody tr th {\n",
              "        vertical-align: top;\n",
              "    }\n",
              "\n",
              "    .dataframe thead th {\n",
              "        text-align: right;\n",
              "    }\n",
              "</style>\n",
              "<table border=\"1\" class=\"dataframe\">\n",
              "  <thead>\n",
              "    <tr style=\"text-align: right;\">\n",
              "      <th></th>\n",
              "      <th>round</th>\n",
              "    </tr>\n",
              "  </thead>\n",
              "  <tbody>\n",
              "    <tr>\n",
              "      <th>0</th>\n",
              "      <td>6.41</td>\n",
              "    </tr>\n",
              "  </tbody>\n",
              "</table>\n",
              "</div>"
            ],
            "text/plain": [
              "   round\n",
              "0   6.41"
            ]
          },
          "execution_count": 15,
          "metadata": {},
          "output_type": "execute_result"
        }
      ],
      "source": [
        "# текст запроса\n",
        "query = f'''select   \n",
        "\n",
        "                round(avg(length(key_skills)-length(replace(key_skills, CHR(9), ''))+1), 2) /*кол-во навыков = разность кол-во символов - кол-во символов с заменой '/' на пустые + 1*/\n",
        "                \n",
        "                from vacancies\n",
        "                where key_skills IS NOT NULL AND\n",
        "                      name ILIKE '%data scientist%' OR  /*формируем набор фильтров по содержанию в имени, при запросе через ILIKE игнорируем регистр*/\n",
        "                      name ILIKE '%data science%' OR  \n",
        "                      name ILIKE '%исследователь данных%' OR\n",
        "                      (name LIKE '%ML%' AND name NOT ILIKE '%HTML%') OR\n",
        "                      name ILIKE '%machine learning%' OR\n",
        "                      name ILIKE '%машинн%обучен%' \n",
        "                      \n",
        "                      \n",
        "                      \n",
        "                                            \n",
        "\n",
        "                \n",
        "                \n",
        "             '''\n",
        "df = pd.read_sql_query(query, connection)\n",
        "df"
      ]
    },
    {
      "cell_type": "code",
      "execution_count": null,
      "id": "a3V24Tvmviqk",
      "metadata": {
        "id": "a3V24Tvmviqk"
      },
      "outputs": [],
      "source": [
        "# результат запроса\n",
        "6.41"
      ]
    },
    {
      "cell_type": "markdown",
      "id": "1041c17a-ca8f-4543-a0ca-32778914fb00",
      "metadata": {
        "id": "1041c17a-ca8f-4543-a0ca-32778914fb00"
      },
      "source": [
        "6. Напишите запрос, позволяющий вычислить, какую зарплату для DS в **среднем** указывают для каждого типа требуемого опыта (уникальное значение из поля *experience*). \n",
        "\n",
        "При решении задачи примите во внимание следующее:\n",
        "1. Рассматриваем только вакансии, у которых заполнено хотя бы одно из двух полей с зарплатой.\n",
        "2. Если заполнены оба поля с зарплатой, то считаем зарплату по каждой вакансии как сумму двух полей, делённую на 2. Если заполнено только одно из полей, то его и считаем зарплатой по вакансии.\n",
        "3. Если в расчётах участвует null, в результате он тоже даст null (посмотрите, что возвращает запрос select 1 + null). Чтобы избежать этой ситуацию, мы воспользуемся функцией [coalesce](https://postgrespro.ru/docs/postgresql/9.5/functions-conditional#functions-coalesce-nvl-ifnull), которая заменит null на значение, которое мы передадим. Например, посмотрите, что возвращает запрос `select 1 + coalesce(null, 0)`\n",
        "\n",
        "Выясните, на какую зарплату в среднем может рассчитывать дата-сайентист с опытом работы от 3 до 6 лет. Результат округлите до целого числа. "
      ]
    },
    {
      "cell_type": "code",
      "execution_count": null,
      "id": "6a743d39-5204-48d3-8271-b9f88e68d40e",
      "metadata": {
        "id": "6a743d39-5204-48d3-8271-b9f88e68d40e"
      },
      "outputs": [
        {
          "name": "stderr",
          "output_type": "stream",
          "text": [
            "C:\\Users\\Kaelis\\AppData\\Local\\Temp\\ipykernel_33600\\3633262300.py:26: UserWarning: pandas only supports SQLAlchemy connectable (engine/connection) or database string URI or sqlite3 DBAPI2 connection. Other DBAPI2 objects are not tested. Please consider using SQLAlchemy.\n",
            "  df = pd.read_sql_query(query, connection)\n"
          ]
        },
        {
          "data": {
            "text/html": [
              "<div>\n",
              "<style scoped>\n",
              "    .dataframe tbody tr th:only-of-type {\n",
              "        vertical-align: middle;\n",
              "    }\n",
              "\n",
              "    .dataframe tbody tr th {\n",
              "        vertical-align: top;\n",
              "    }\n",
              "\n",
              "    .dataframe thead th {\n",
              "        text-align: right;\n",
              "    }\n",
              "</style>\n",
              "<table border=\"1\" class=\"dataframe\">\n",
              "  <thead>\n",
              "    <tr style=\"text-align: right;\">\n",
              "      <th></th>\n",
              "      <th>experience</th>\n",
              "      <th>round</th>\n",
              "    </tr>\n",
              "  </thead>\n",
              "  <tbody>\n",
              "    <tr>\n",
              "      <th>0</th>\n",
              "      <td>От 3 до 6 лет</td>\n",
              "      <td>243115.0</td>\n",
              "    </tr>\n",
              "    <tr>\n",
              "      <th>1</th>\n",
              "      <td>От 1 года до 3 лет</td>\n",
              "      <td>139675.0</td>\n",
              "    </tr>\n",
              "    <tr>\n",
              "      <th>2</th>\n",
              "      <td>Нет опыта</td>\n",
              "      <td>74643.0</td>\n",
              "    </tr>\n",
              "  </tbody>\n",
              "</table>\n",
              "</div>"
            ],
            "text/plain": [
              "           experience     round\n",
              "0       От 3 до 6 лет  243115.0\n",
              "1  От 1 года до 3 лет  139675.0\n",
              "2           Нет опыта   74643.0"
            ]
          },
          "execution_count": 510,
          "metadata": {},
          "output_type": "execute_result"
        }
      ],
      "source": [
        "# текст запроса\n",
        "query = f'''select   \n",
        "                \n",
        "                experience,\n",
        "                ROUND(AVG(coalesce((salary_from + salary_to)/2, salary_from, salary_to)), 0)  /*вычисляем среднее между двумя ЗП если они не NULL, в ином случае берем первое непустое значение*/                \n",
        "                \n",
        "                from vacancies\n",
        "                where (salary_from is not NULL or salary_to is not null) /*одно из значений заработной платы не равно нулю*/\n",
        "                      AND\n",
        "                      (name ILIKE '%data scientist%' OR  /*формируем набор фильтров по содержанию в имени, при запросе через ILIKE игнорируем регистр*/\n",
        "                      name ILIKE '%data science%' OR  \n",
        "                      name ILIKE '%исследователь данных%' OR\n",
        "                      (name LIKE '%ML%' AND name NOT ILIKE '%HTML%') OR\n",
        "                      name ILIKE '%machine learning%' OR\n",
        "                      name ILIKE '%машинн%обучен%') \n",
        "                 GROUP BY experience  \n",
        "                 ORDER BY 1 DESC\n",
        "                    \n",
        "                      \n",
        "                      \n",
        "                                            \n",
        "\n",
        "                \n",
        "                \n",
        "             '''\n",
        "df = pd.read_sql_query(query, connection)\n",
        "df"
      ]
    },
    {
      "cell_type": "code",
      "execution_count": null,
      "id": "aRIJ0mZEwU1_",
      "metadata": {
        "id": "aRIJ0mZEwU1_"
      },
      "outputs": [],
      "source": [
        "# результат запроса\n",
        "243115.0"
      ]
    },
    {
      "cell_type": "markdown",
      "id": "6a7892b4-4113-4746-adce-18aa2844f18e",
      "metadata": {
        "id": "6a7892b4-4113-4746-adce-18aa2844f18e"
      },
      "source": [
        "***"
      ]
    },
    {
      "cell_type": "code",
      "execution_count": null,
      "id": "UjLWUptVwY1o",
      "metadata": {
        "id": "UjLWUptVwY1o"
      },
      "outputs": [],
      "source": [
        "# выводы по предметному анализу\n",
        "В целом, по ключевым словам, содержащим 'data' или 'данн' можно найти 1 771 вакансию.\n",
        "При этом для начиняющих дата-сайентистов найдется всего 51 вакансия (2.9%).\n",
        "Ключевые навыки SQL или postgres требуются для 229 вакансий, требования к знанию Python предъявляют 357 вакансий.\n",
        "В среднем в вакансиях для DS указываются требования к 6.41 навыкам.\n",
        "Диапазон среднего уровня заработной платы в сфере DS составляет от 74.6 тыс. руб. для кандидата без опыта работы до 243.1 тыс. руб. для специалиста с опытом от 3х до 6 лет. \n"
      ]
    },
    {
      "cell_type": "markdown",
      "id": "c0ED6fh7wiBT",
      "metadata": {
        "id": "c0ED6fh7wiBT"
      },
      "source": [
        "# Общий вывод по проекту"
      ]
    },
    {
      "cell_type": "code",
      "execution_count": null,
      "id": "h9B3BL-wwj18",
      "metadata": {
        "id": "h9B3BL-wwj18"
      },
      "outputs": [],
      "source": [
        "# подведем итог исследования, обобщите выводы\n",
        "На основании имеющейся базы данных можно сделать следующие выводы:\n",
        "В базе содержится информация о 49.2 тысячах вакансий от 23.5 тыс. работодателей в 1 362 регионах и 294 сферах деятельности.\n",
        "Уровень зарплат в целом по вакансиям изменяется в размере от 71 до 110.5 тыс. руб.\n",
        "Полная занятость в формате удаленной работы предлагается в 7 802 случаях (15,86% от общего числа вакансий)\n",
        "Наибольшее количество вакансий (26 152) предъявляют требования к опыту соискателей от 1 до 3х лет.\n",
        "\n",
        "Сфера DS представлена в базе 480 вакансиями (0,98% от общего числа вакансий). При этом на города федерального значения приходится 58,5% от размещенных вакансий.\n",
        "\n",
        "146805.0\t216356.0\n",
        "Следует отметить, что средние уровни ЗП (там, где они указаны) в сфере DS значительно выше чем в среднем по базе вакансий - минимальный средний уровень состаляет 146.8 тыс. руб. (2.06 раза);\n",
        "максимальный уровень ЗП в DS (216.36 тыс. руб.) выше среднего по выборке вакансий в целом в 1.96 раза.\n",
        "\n",
        "# здесь можно (это будет плюсом) провести дополнительные исследования данных, сделать прогнозы, продумать варианты продолжения исследования"
      ]
    },
    {
      "cell_type": "code",
      "execution_count": 120,
      "id": "f19445de",
      "metadata": {},
      "outputs": [
        {
          "name": "stderr",
          "output_type": "stream",
          "text": [
            "C:\\Users\\Kaelis\\AppData\\Local\\Temp\\ipykernel_24384\\4283948029.py:22: UserWarning: pandas only supports SQLAlchemy connectable (engine/connection) or database string URI or sqlite3 DBAPI2 connection. Other DBAPI2 objects are not tested. Please consider using SQLAlchemy.\n",
            "  df = pd.read_sql_query(query, connection)\n"
          ]
        },
        {
          "data": {
            "text/html": [
              "<div>\n",
              "<style scoped>\n",
              "    .dataframe tbody tr th:only-of-type {\n",
              "        vertical-align: middle;\n",
              "    }\n",
              "\n",
              "    .dataframe tbody tr th {\n",
              "        vertical-align: top;\n",
              "    }\n",
              "\n",
              "    .dataframe thead th {\n",
              "        text-align: right;\n",
              "    }\n",
              "</style>\n",
              "<table border=\"1\" class=\"dataframe\">\n",
              "  <thead>\n",
              "    <tr style=\"text-align: right;\">\n",
              "      <th></th>\n",
              "      <th>id</th>\n",
              "      <th>name</th>\n",
              "      <th>key_skills</th>\n",
              "      <th>schedule</th>\n",
              "      <th>experience</th>\n",
              "      <th>employment</th>\n",
              "      <th>salary_from</th>\n",
              "      <th>salary_to</th>\n",
              "      <th>area_id</th>\n",
              "      <th>employer_id</th>\n",
              "    </tr>\n",
              "  </thead>\n",
              "  <tbody>\n",
              "    <tr>\n",
              "      <th>0</th>\n",
              "      <td>55311099</td>\n",
              "      <td>ML Engineer Team Lead (to Cyprus)</td>\n",
              "      <td>Python\\tLinux\\tKubernetes\\tAWS\\tGit\\tPeople Ma...</td>\n",
              "      <td>Полный день</td>\n",
              "      <td>От 3 до 6 лет</td>\n",
              "      <td>Полная занятость</td>\n",
              "      <td>NaN</td>\n",
              "      <td>NaN</td>\n",
              "      <td>236</td>\n",
              "      <td>3266823</td>\n",
              "    </tr>\n",
              "    <tr>\n",
              "      <th>1</th>\n",
              "      <td>54824572</td>\n",
              "      <td>Data Scientist</td>\n",
              "      <td>Oracle Pl/SQL\\tБазы данных\\tMachine Learning\\t...</td>\n",
              "      <td>Полный день</td>\n",
              "      <td>От 1 года до 3 лет</td>\n",
              "      <td>Полная занятость</td>\n",
              "      <td>NaN</td>\n",
              "      <td>NaN</td>\n",
              "      <td>160</td>\n",
              "      <td>111304</td>\n",
              "    </tr>\n",
              "    <tr>\n",
              "      <th>2</th>\n",
              "      <td>54654842</td>\n",
              "      <td>Data Scientist / Аналитик Data Science</td>\n",
              "      <td>Python\\tData Mining\\tАнглийский язык\\tИскусств...</td>\n",
              "      <td>Полный день</td>\n",
              "      <td>От 1 года до 3 лет</td>\n",
              "      <td>Полная занятость</td>\n",
              "      <td>NaN</td>\n",
              "      <td>NaN</td>\n",
              "      <td>1</td>\n",
              "      <td>14896</td>\n",
              "    </tr>\n",
              "    <tr>\n",
              "      <th>3</th>\n",
              "      <td>54851586</td>\n",
              "      <td>Data scientist (графы)</td>\n",
              "      <td>Python\\tSpark\\tMachine Learning\\tPyTorch\\tTens...</td>\n",
              "      <td>Полный день</td>\n",
              "      <td>От 1 года до 3 лет</td>\n",
              "      <td>Полная занятость</td>\n",
              "      <td>NaN</td>\n",
              "      <td>NaN</td>\n",
              "      <td>1</td>\n",
              "      <td>3388</td>\n",
              "    </tr>\n",
              "    <tr>\n",
              "      <th>4</th>\n",
              "      <td>54720540</td>\n",
              "      <td>Senior ML Developer (обучение моделей виртуаль...</td>\n",
              "      <td>None</td>\n",
              "      <td>Полный день</td>\n",
              "      <td>От 3 до 6 лет</td>\n",
              "      <td>Полная занятость</td>\n",
              "      <td>NaN</td>\n",
              "      <td>NaN</td>\n",
              "      <td>1</td>\n",
              "      <td>3776</td>\n",
              "    </tr>\n",
              "    <tr>\n",
              "      <th>...</th>\n",
              "      <td>...</td>\n",
              "      <td>...</td>\n",
              "      <td>...</td>\n",
              "      <td>...</td>\n",
              "      <td>...</td>\n",
              "      <td>...</td>\n",
              "      <td>...</td>\n",
              "      <td>...</td>\n",
              "      <td>...</td>\n",
              "      <td>...</td>\n",
              "    </tr>\n",
              "    <tr>\n",
              "      <th>475</th>\n",
              "      <td>54825318</td>\n",
              "      <td>Data Scientist (Junior+)</td>\n",
              "      <td>Python\\tOpenCV\\tTensorflow\\tComputer Vision\\tН...</td>\n",
              "      <td>Полный день</td>\n",
              "      <td>От 1 года до 3 лет</td>\n",
              "      <td>Полная занятость</td>\n",
              "      <td>50000.0</td>\n",
              "      <td>70000.0</td>\n",
              "      <td>72</td>\n",
              "      <td>215942</td>\n",
              "    </tr>\n",
              "    <tr>\n",
              "      <th>476</th>\n",
              "      <td>55145641</td>\n",
              "      <td>Junior Data Scientist</td>\n",
              "      <td>Python\\tSQL\\tMachine Learning\\tData Science\\tА...</td>\n",
              "      <td>Полный день</td>\n",
              "      <td>Нет опыта</td>\n",
              "      <td>Полная занятость</td>\n",
              "      <td>50000.0</td>\n",
              "      <td>NaN</td>\n",
              "      <td>2</td>\n",
              "      <td>40938</td>\n",
              "    </tr>\n",
              "    <tr>\n",
              "      <th>477</th>\n",
              "      <td>55052496</td>\n",
              "      <td>Junior Data Scientist</td>\n",
              "      <td>Python\\tSQL\\tАнглийский язык\\tLinux\\tООП</td>\n",
              "      <td>Полный день</td>\n",
              "      <td>От 1 года до 3 лет</td>\n",
              "      <td>Полная занятость</td>\n",
              "      <td>50000.0</td>\n",
              "      <td>NaN</td>\n",
              "      <td>76</td>\n",
              "      <td>2029927</td>\n",
              "    </tr>\n",
              "    <tr>\n",
              "      <th>478</th>\n",
              "      <td>55166994</td>\n",
              "      <td>ML разработчик (удалённо)</td>\n",
              "      <td>Python\\tПоиск информации в интернет\\tC++\\tМате...</td>\n",
              "      <td>Удаленная работа</td>\n",
              "      <td>От 1 года до 3 лет</td>\n",
              "      <td>Полная занятость</td>\n",
              "      <td>50000.0</td>\n",
              "      <td>100000.0</td>\n",
              "      <td>1</td>\n",
              "      <td>6154479</td>\n",
              "    </tr>\n",
              "    <tr>\n",
              "      <th>479</th>\n",
              "      <td>54475492</td>\n",
              "      <td>Data Scientist (Junior)</td>\n",
              "      <td>Python\\tMachine Learning\\tPandas\\tSQL\\tNumpy\\t...</td>\n",
              "      <td>Полный день</td>\n",
              "      <td>Нет опыта</td>\n",
              "      <td>Частичная занятость</td>\n",
              "      <td>45000.0</td>\n",
              "      <td>100000.0</td>\n",
              "      <td>1</td>\n",
              "      <td>665449</td>\n",
              "    </tr>\n",
              "  </tbody>\n",
              "</table>\n",
              "<p>480 rows × 10 columns</p>\n",
              "</div>"
            ],
            "text/plain": [
              "           id                                               name  \\\n",
              "0    55311099                  ML Engineer Team Lead (to Cyprus)   \n",
              "1    54824572                                     Data Scientist   \n",
              "2    54654842             Data Scientist / Аналитик Data Science   \n",
              "3    54851586                             Data scientist (графы)   \n",
              "4    54720540  Senior ML Developer (обучение моделей виртуаль...   \n",
              "..        ...                                                ...   \n",
              "475  54825318                           Data Scientist (Junior+)   \n",
              "476  55145641                              Junior Data Scientist   \n",
              "477  55052496                              Junior Data Scientist   \n",
              "478  55166994                          ML разработчик (удалённо)   \n",
              "479  54475492                            Data Scientist (Junior)   \n",
              "\n",
              "                                            key_skills          schedule  \\\n",
              "0    Python\\tLinux\\tKubernetes\\tAWS\\tGit\\tPeople Ma...       Полный день   \n",
              "1    Oracle Pl/SQL\\tБазы данных\\tMachine Learning\\t...       Полный день   \n",
              "2    Python\\tData Mining\\tАнглийский язык\\tИскусств...       Полный день   \n",
              "3    Python\\tSpark\\tMachine Learning\\tPyTorch\\tTens...       Полный день   \n",
              "4                                                 None       Полный день   \n",
              "..                                                 ...               ...   \n",
              "475  Python\\tOpenCV\\tTensorflow\\tComputer Vision\\tН...       Полный день   \n",
              "476  Python\\tSQL\\tMachine Learning\\tData Science\\tА...       Полный день   \n",
              "477           Python\\tSQL\\tАнглийский язык\\tLinux\\tООП       Полный день   \n",
              "478  Python\\tПоиск информации в интернет\\tC++\\tМате...  Удаленная работа   \n",
              "479  Python\\tMachine Learning\\tPandas\\tSQL\\tNumpy\\t...       Полный день   \n",
              "\n",
              "             experience           employment  salary_from  salary_to  area_id  \\\n",
              "0         От 3 до 6 лет     Полная занятость          NaN        NaN      236   \n",
              "1    От 1 года до 3 лет     Полная занятость          NaN        NaN      160   \n",
              "2    От 1 года до 3 лет     Полная занятость          NaN        NaN        1   \n",
              "3    От 1 года до 3 лет     Полная занятость          NaN        NaN        1   \n",
              "4         От 3 до 6 лет     Полная занятость          NaN        NaN        1   \n",
              "..                  ...                  ...          ...        ...      ...   \n",
              "475  От 1 года до 3 лет     Полная занятость      50000.0    70000.0       72   \n",
              "476           Нет опыта     Полная занятость      50000.0        NaN        2   \n",
              "477  От 1 года до 3 лет     Полная занятость      50000.0        NaN       76   \n",
              "478  От 1 года до 3 лет     Полная занятость      50000.0   100000.0        1   \n",
              "479           Нет опыта  Частичная занятость      45000.0   100000.0        1   \n",
              "\n",
              "     employer_id  \n",
              "0        3266823  \n",
              "1         111304  \n",
              "2          14896  \n",
              "3           3388  \n",
              "4           3776  \n",
              "..           ...  \n",
              "475       215942  \n",
              "476        40938  \n",
              "477      2029927  \n",
              "478      6154479  \n",
              "479       665449  \n",
              "\n",
              "[480 rows x 10 columns]"
            ]
          },
          "execution_count": 120,
          "metadata": {},
          "output_type": "execute_result"
        }
      ],
      "source": [
        "# Сколько всего вакансий подходящих под критерии отбора DS содержится в базе данных:\n",
        "\n",
        "query = f'''select   \n",
        "                *\n",
        "                --COUNT(id)                  \n",
        "                \n",
        "                from vacancies\n",
        "                where (name ILIKE '%data scientist%' OR  /*формируем набор фильтров по содержанию в имени, при запросе через ILIKE игнорируем регистр*/\n",
        "                      name ILIKE '%data science%' OR  \n",
        "                      name ILIKE '%исследователь данных%' OR\n",
        "                      (name LIKE '%ML%' AND name NOT ILIKE '%HTML%') OR\n",
        "                      name ILIKE '%machine learning%' OR\n",
        "                      name ILIKE '%машинн%обучен%' )\n",
        "                 ORDER BY salary_from DESC     \n",
        "                      \n",
        "                      \n",
        "                                            \n",
        "\n",
        "                \n",
        "                \n",
        "             '''\n",
        "df = pd.read_sql_query(query, connection)\n",
        "df"
      ]
    },
    {
      "cell_type": "code",
      "execution_count": 131,
      "id": "83acbb93",
      "metadata": {},
      "outputs": [
        {
          "name": "stderr",
          "output_type": "stream",
          "text": [
            "C:\\Users\\Kaelis\\AppData\\Local\\Temp\\ipykernel_24384\\1207301380.py:23: UserWarning: pandas only supports SQLAlchemy connectable (engine/connection) or database string URI or sqlite3 DBAPI2 connection. Other DBAPI2 objects are not tested. Please consider using SQLAlchemy.\n",
            "  df = pd.read_sql_query(query, connection)\n"
          ]
        },
        {
          "data": {
            "text/html": [
              "<div>\n",
              "<style scoped>\n",
              "    .dataframe tbody tr th:only-of-type {\n",
              "        vertical-align: middle;\n",
              "    }\n",
              "\n",
              "    .dataframe tbody tr th {\n",
              "        vertical-align: top;\n",
              "    }\n",
              "\n",
              "    .dataframe thead th {\n",
              "        text-align: right;\n",
              "    }\n",
              "</style>\n",
              "<table border=\"1\" class=\"dataframe\">\n",
              "  <thead>\n",
              "    <tr style=\"text-align: right;\">\n",
              "      <th></th>\n",
              "      <th>location</th>\n",
              "      <th>vacancy_cnt</th>\n",
              "    </tr>\n",
              "  </thead>\n",
              "  <tbody>\n",
              "    <tr>\n",
              "      <th>0</th>\n",
              "      <td>Москва</td>\n",
              "      <td>217.0</td>\n",
              "    </tr>\n",
              "    <tr>\n",
              "      <th>1</th>\n",
              "      <td>Санкт-Петербург</td>\n",
              "      <td>64.0</td>\n",
              "    </tr>\n",
              "    <tr>\n",
              "      <th>2</th>\n",
              "      <td>Новосибирск</td>\n",
              "      <td>23.0</td>\n",
              "    </tr>\n",
              "    <tr>\n",
              "      <th>3</th>\n",
              "      <td>Нижний Новгород</td>\n",
              "      <td>20.0</td>\n",
              "    </tr>\n",
              "    <tr>\n",
              "      <th>4</th>\n",
              "      <td>Казань</td>\n",
              "      <td>16.0</td>\n",
              "    </tr>\n",
              "    <tr>\n",
              "      <th>5</th>\n",
              "      <td>Алматы</td>\n",
              "      <td>16.0</td>\n",
              "    </tr>\n",
              "    <tr>\n",
              "      <th>6</th>\n",
              "      <td>Минск</td>\n",
              "      <td>9.0</td>\n",
              "    </tr>\n",
              "    <tr>\n",
              "      <th>7</th>\n",
              "      <td>Томск</td>\n",
              "      <td>8.0</td>\n",
              "    </tr>\n",
              "    <tr>\n",
              "      <th>8</th>\n",
              "      <td>Екатеринбург</td>\n",
              "      <td>7.0</td>\n",
              "    </tr>\n",
              "    <tr>\n",
              "      <th>9</th>\n",
              "      <td>Краснодар</td>\n",
              "      <td>6.0</td>\n",
              "    </tr>\n",
              "    <tr>\n",
              "      <th>10</th>\n",
              "      <td>Ростов-на-Дону</td>\n",
              "      <td>6.0</td>\n",
              "    </tr>\n",
              "    <tr>\n",
              "      <th>11</th>\n",
              "      <td>Армения</td>\n",
              "      <td>6.0</td>\n",
              "    </tr>\n",
              "    <tr>\n",
              "      <th>12</th>\n",
              "      <td>Нур-Султан</td>\n",
              "      <td>6.0</td>\n",
              "    </tr>\n",
              "    <tr>\n",
              "      <th>13</th>\n",
              "      <td>Самара</td>\n",
              "      <td>5.0</td>\n",
              "    </tr>\n",
              "    <tr>\n",
              "      <th>14</th>\n",
              "      <td>Пермь</td>\n",
              "      <td>5.0</td>\n",
              "    </tr>\n",
              "    <tr>\n",
              "      <th>15</th>\n",
              "      <td>Кипр</td>\n",
              "      <td>5.0</td>\n",
              "    </tr>\n",
              "    <tr>\n",
              "      <th>16</th>\n",
              "      <td>Рязань</td>\n",
              "      <td>4.0</td>\n",
              "    </tr>\n",
              "    <tr>\n",
              "      <th>17</th>\n",
              "      <td>Ташкент</td>\n",
              "      <td>4.0</td>\n",
              "    </tr>\n",
              "    <tr>\n",
              "      <th>18</th>\n",
              "      <td>Иннополис</td>\n",
              "      <td>3.0</td>\n",
              "    </tr>\n",
              "    <tr>\n",
              "      <th>19</th>\n",
              "      <td>Тбилиси</td>\n",
              "      <td>3.0</td>\n",
              "    </tr>\n",
              "    <tr>\n",
              "      <th>20</th>\n",
              "      <td>Владивосток</td>\n",
              "      <td>3.0</td>\n",
              "    </tr>\n",
              "    <tr>\n",
              "      <th>21</th>\n",
              "      <td>Сербия</td>\n",
              "      <td>3.0</td>\n",
              "    </tr>\n",
              "    <tr>\n",
              "      <th>22</th>\n",
              "      <td>Омск</td>\n",
              "      <td>3.0</td>\n",
              "    </tr>\n",
              "    <tr>\n",
              "      <th>23</th>\n",
              "      <td>Уфа</td>\n",
              "      <td>2.0</td>\n",
              "    </tr>\n",
              "    <tr>\n",
              "      <th>24</th>\n",
              "      <td>Израиль</td>\n",
              "      <td>2.0</td>\n",
              "    </tr>\n",
              "    <tr>\n",
              "      <th>25</th>\n",
              "      <td>Турция</td>\n",
              "      <td>2.0</td>\n",
              "    </tr>\n",
              "    <tr>\n",
              "      <th>26</th>\n",
              "      <td>Пенза</td>\n",
              "      <td>2.0</td>\n",
              "    </tr>\n",
              "    <tr>\n",
              "      <th>27</th>\n",
              "      <td>Киров (Кировская область)</td>\n",
              "      <td>2.0</td>\n",
              "    </tr>\n",
              "    <tr>\n",
              "      <th>28</th>\n",
              "      <td>Чехия</td>\n",
              "      <td>2.0</td>\n",
              "    </tr>\n",
              "    <tr>\n",
              "      <th>29</th>\n",
              "      <td>Баку</td>\n",
              "      <td>2.0</td>\n",
              "    </tr>\n",
              "    <tr>\n",
              "      <th>30</th>\n",
              "      <td>Литва</td>\n",
              "      <td>2.0</td>\n",
              "    </tr>\n",
              "    <tr>\n",
              "      <th>31</th>\n",
              "      <td>Воронеж</td>\n",
              "      <td>2.0</td>\n",
              "    </tr>\n",
              "    <tr>\n",
              "      <th>32</th>\n",
              "      <td>Набережные Челны</td>\n",
              "      <td>1.0</td>\n",
              "    </tr>\n",
              "    <tr>\n",
              "      <th>33</th>\n",
              "      <td>Барнаул</td>\n",
              "      <td>1.0</td>\n",
              "    </tr>\n",
              "    <tr>\n",
              "      <th>34</th>\n",
              "      <td>Батуми</td>\n",
              "      <td>1.0</td>\n",
              "    </tr>\n",
              "    <tr>\n",
              "      <th>35</th>\n",
              "      <td>Белгород</td>\n",
              "      <td>1.0</td>\n",
              "    </tr>\n",
              "    <tr>\n",
              "      <th>36</th>\n",
              "      <td>Бишкек</td>\n",
              "      <td>1.0</td>\n",
              "    </tr>\n",
              "    <tr>\n",
              "      <th>37</th>\n",
              "      <td>Брянск</td>\n",
              "      <td>1.0</td>\n",
              "    </tr>\n",
              "    <tr>\n",
              "      <th>38</th>\n",
              "      <td>Волгоград</td>\n",
              "      <td>1.0</td>\n",
              "    </tr>\n",
              "    <tr>\n",
              "      <th>39</th>\n",
              "      <td>Зеленоград</td>\n",
              "      <td>1.0</td>\n",
              "    </tr>\n",
              "    <tr>\n",
              "      <th>40</th>\n",
              "      <td>Ижевск</td>\n",
              "      <td>1.0</td>\n",
              "    </tr>\n",
              "    <tr>\n",
              "      <th>41</th>\n",
              "      <td>Королев</td>\n",
              "      <td>1.0</td>\n",
              "    </tr>\n",
              "    <tr>\n",
              "      <th>42</th>\n",
              "      <td>Красноярск</td>\n",
              "      <td>1.0</td>\n",
              "    </tr>\n",
              "    <tr>\n",
              "      <th>43</th>\n",
              "      <td>Абхазия</td>\n",
              "      <td>1.0</td>\n",
              "    </tr>\n",
              "    <tr>\n",
              "      <th>44</th>\n",
              "      <td>Орел</td>\n",
              "      <td>1.0</td>\n",
              "    </tr>\n",
              "    <tr>\n",
              "      <th>45</th>\n",
              "      <td>Петрозаводск</td>\n",
              "      <td>1.0</td>\n",
              "    </tr>\n",
              "    <tr>\n",
              "      <th>46</th>\n",
              "      <td>Польша</td>\n",
              "      <td>1.0</td>\n",
              "    </tr>\n",
              "    <tr>\n",
              "      <th>47</th>\n",
              "      <td>Саратов</td>\n",
              "      <td>1.0</td>\n",
              "    </tr>\n",
              "    <tr>\n",
              "      <th>48</th>\n",
              "      <td>Тверь</td>\n",
              "      <td>1.0</td>\n",
              "    </tr>\n",
              "    <tr>\n",
              "      <th>49</th>\n",
              "      <td>Тюмень</td>\n",
              "      <td>1.0</td>\n",
              "    </tr>\n",
              "    <tr>\n",
              "      <th>50</th>\n",
              "      <td>Челябинск</td>\n",
              "      <td>1.0</td>\n",
              "    </tr>\n",
              "    <tr>\n",
              "      <th>51</th>\n",
              "      <td>Черногория</td>\n",
              "      <td>1.0</td>\n",
              "    </tr>\n",
              "    <tr>\n",
              "      <th>52</th>\n",
              "      <td>Total</td>\n",
              "      <td>480.0</td>\n",
              "    </tr>\n",
              "  </tbody>\n",
              "</table>\n",
              "</div>"
            ],
            "text/plain": [
              "                     location  vacancy_cnt\n",
              "0                      Москва        217.0\n",
              "1             Санкт-Петербург         64.0\n",
              "2                 Новосибирск         23.0\n",
              "3             Нижний Новгород         20.0\n",
              "4                      Казань         16.0\n",
              "5                      Алматы         16.0\n",
              "6                       Минск          9.0\n",
              "7                       Томск          8.0\n",
              "8                Екатеринбург          7.0\n",
              "9                   Краснодар          6.0\n",
              "10             Ростов-на-Дону          6.0\n",
              "11                    Армения          6.0\n",
              "12                 Нур-Султан          6.0\n",
              "13                     Самара          5.0\n",
              "14                      Пермь          5.0\n",
              "15                       Кипр          5.0\n",
              "16                     Рязань          4.0\n",
              "17                    Ташкент          4.0\n",
              "18                  Иннополис          3.0\n",
              "19                    Тбилиси          3.0\n",
              "20                Владивосток          3.0\n",
              "21                     Сербия          3.0\n",
              "22                       Омск          3.0\n",
              "23                        Уфа          2.0\n",
              "24                    Израиль          2.0\n",
              "25                     Турция          2.0\n",
              "26                      Пенза          2.0\n",
              "27  Киров (Кировская область)          2.0\n",
              "28                      Чехия          2.0\n",
              "29                       Баку          2.0\n",
              "30                      Литва          2.0\n",
              "31                    Воронеж          2.0\n",
              "32           Набережные Челны          1.0\n",
              "33                    Барнаул          1.0\n",
              "34                     Батуми          1.0\n",
              "35                   Белгород          1.0\n",
              "36                     Бишкек          1.0\n",
              "37                     Брянск          1.0\n",
              "38                  Волгоград          1.0\n",
              "39                 Зеленоград          1.0\n",
              "40                     Ижевск          1.0\n",
              "41                    Королев          1.0\n",
              "42                 Красноярск          1.0\n",
              "43                    Абхазия          1.0\n",
              "44                       Орел          1.0\n",
              "45               Петрозаводск          1.0\n",
              "46                     Польша          1.0\n",
              "47                    Саратов          1.0\n",
              "48                      Тверь          1.0\n",
              "49                     Тюмень          1.0\n",
              "50                  Челябинск          1.0\n",
              "51                 Черногория          1.0\n",
              "52                      Total        480.0"
            ]
          },
          "execution_count": 131,
          "metadata": {},
          "output_type": "execute_result"
        }
      ],
      "source": [
        "# Каким образом вакансии, подходящие под критерии отбора DS распределены по регионам:\n",
        "\n",
        "query = f'''WITH temp AS (select   \n",
        "                a.name AS location,\n",
        "                COUNT(v.id) AS vacancy_cnt                  \n",
        "                \n",
        "                from vacancies v LEFT join areas a ON v.area_id = a.id\n",
        "                where (v.name ILIKE '%data scientist%' OR  /*формируем набор фильтров по содержанию в имени, при запросе через ILIKE игнорируем регистр*/\n",
        "                      v.name ILIKE '%data science%' OR  \n",
        "                      v.name ILIKE '%исследователь данных%' OR\n",
        "                      (v.name LIKE '%ML%' AND v.name NOT ILIKE '%HTML%') OR /*LIKE '%ML%' - отбираем только сочетание ML с учетом регистра*/\n",
        "                      v.name ILIKE '%machine learning%' OR\n",
        "                      v.name ILIKE '%машинн%обучен%' )\n",
        "                \n",
        "                GROUP BY a.name \n",
        "                ORDER BY 2 DESC)  \n",
        "                \n",
        "                \n",
        "             SELECT * FROM temp /*суммируем общее число вакансий из предыдущего запроса*/\n",
        "             UNION ALL\n",
        "             SELECT 'Total', SUM(vacancy_cnt) FROM temp\n",
        "             '''\n",
        "df = pd.read_sql_query(query, connection)\n",
        "df"
      ]
    },
    {
      "cell_type": "code",
      "execution_count": 130,
      "id": "546a18e5",
      "metadata": {},
      "outputs": [
        {
          "name": "stderr",
          "output_type": "stream",
          "text": [
            "C:\\Users\\Kaelis\\AppData\\Local\\Temp\\ipykernel_24384\\2332549293.py:18: UserWarning: pandas only supports SQLAlchemy connectable (engine/connection) or database string URI or sqlite3 DBAPI2 connection. Other DBAPI2 objects are not tested. Please consider using SQLAlchemy.\n",
            "  df = pd.read_sql_query(query, connection)\n"
          ]
        },
        {
          "data": {
            "text/html": [
              "<div>\n",
              "<style scoped>\n",
              "    .dataframe tbody tr th:only-of-type {\n",
              "        vertical-align: middle;\n",
              "    }\n",
              "\n",
              "    .dataframe tbody tr th {\n",
              "        vertical-align: top;\n",
              "    }\n",
              "\n",
              "    .dataframe thead th {\n",
              "        text-align: right;\n",
              "    }\n",
              "</style>\n",
              "<table border=\"1\" class=\"dataframe\">\n",
              "  <thead>\n",
              "    <tr style=\"text-align: right;\">\n",
              "      <th></th>\n",
              "      <th>min_salary</th>\n",
              "      <th>max_salary</th>\n",
              "    </tr>\n",
              "  </thead>\n",
              "  <tbody>\n",
              "    <tr>\n",
              "      <th>0</th>\n",
              "      <td>146805.0</td>\n",
              "      <td>216356.0</td>\n",
              "    </tr>\n",
              "  </tbody>\n",
              "</table>\n",
              "</div>"
            ],
            "text/plain": [
              "   min_salary  max_salary\n",
              "0    146805.0    216356.0"
            ]
          },
          "execution_count": 130,
          "metadata": {},
          "output_type": "execute_result"
        }
      ],
      "source": [
        "# Средний уровень минимальной/максимальной ЗП в сфере DS:\n",
        "\n",
        "query = f'''select                     \n",
        "                     ROUND(AVG(salary_from)) AS min_salary, /*округляем среднее значение минимальной ЗП*/\n",
        "                     ROUND(AVG(salary_to)) AS max_salary    /*округляем среднее значение максимальной ЗП*/\n",
        "                     \n",
        "                 from vacancies\n",
        "                where (salary_from is not NULL or salary_to is not null) /*одно из значений заработной платы не равно нулю*/\n",
        "                      AND\n",
        "                      (name ILIKE '%data scientist%' OR  /*формируем набор фильтров по содержанию в имени, при запросе через ILIKE игнорируем регистр*/\n",
        "                      name ILIKE '%data science%' OR  \n",
        "                      name ILIKE '%исследователь данных%' OR\n",
        "                      (name LIKE '%ML%' AND name NOT ILIKE '%HTML%') OR\n",
        "                      name ILIKE '%machine learning%' OR\n",
        "                      name ILIKE '%машинн%обучен%') \n",
        "                   \n",
        "                 ORDER BY 1 DESC'''\n",
        "df = pd.read_sql_query(query, connection)\n",
        "df"
      ]
    }
  ],
  "metadata": {
    "colab": {
      "collapsed_sections": [
        "8d62a9f3-f64e-4fe7-bdac-c4dffa16155e"
      ],
      "provenance": []
    },
    "kernelspec": {
      "display_name": "Python 3 (ipykernel)",
      "language": "python",
      "name": "python3"
    },
    "language_info": {
      "codemirror_mode": {
        "name": "ipython",
        "version": 3
      },
      "file_extension": ".py",
      "mimetype": "text/x-python",
      "name": "python",
      "nbconvert_exporter": "python",
      "pygments_lexer": "ipython3",
      "version": "3.12.2"
    }
  },
  "nbformat": 4,
  "nbformat_minor": 5
}
